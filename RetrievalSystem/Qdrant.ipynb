{
 "cells": [
  {
   "cell_type": "code",
   "id": "initial_id",
   "metadata": {
    "collapsed": true,
    "ExecuteTime": {
     "end_time": "2025-04-23T02:05:10.770046Z",
     "start_time": "2025-04-23T02:05:09.631016Z"
    }
   },
   "source": [
    "from qdrant_client import QdrantClient\n",
    "from qdrant_client.http import models"
   ],
   "outputs": [],
   "execution_count": 1
  },
  {
   "metadata": {
    "ExecuteTime": {
     "end_time": "2025-04-23T02:05:15.446285Z",
     "start_time": "2025-04-23T02:05:10.780517Z"
    }
   },
   "cell_type": "code",
   "source": "client = QdrantClient(host=\"localhost\", port=6333)",
   "id": "863fd0d22eed78c4",
   "outputs": [],
   "execution_count": 2
  },
  {
   "metadata": {
    "ExecuteTime": {
     "end_time": "2025-04-18T00:41:39.367557Z",
     "start_time": "2025-04-18T00:41:39.338976Z"
    }
   },
   "cell_type": "code",
   "source": [
    "collections = client.get_collections()\n",
    "print(\"Kết nối thành công! Các collections:\", collections)"
   ],
   "id": "dd8300f3276a1e66",
   "outputs": [
    {
     "name": "stdout",
     "output_type": "stream",
     "text": [
      "Kết nối thành công! Các collections: collections=[CollectionDescription(name='shape_collection'), CollectionDescription(name='image_collection'), CollectionDescription(name='text_collection')]\n"
     ]
    }
   ],
   "execution_count": 3
  },
  {
   "metadata": {
    "ExecuteTime": {
     "end_time": "2025-04-18T00:41:41.245890Z",
     "start_time": "2025-04-18T00:41:39.495249Z"
    }
   },
   "cell_type": "code",
   "source": [
    "# Tạo collection cho text embeddings\n",
    "client.recreate_collection(\n",
    "    collection_name=\"text_collection\",\n",
    "    vectors_config=models.VectorParams(\n",
    "        size=1280,  # Kích thước vector của bạn là 1280\n",
    "        distance=models.Distance.COSINE\n",
    "    )\n",
    ")"
   ],
   "id": "b6714d33b6f6f402",
   "outputs": [
    {
     "name": "stderr",
     "output_type": "stream",
     "text": [
      "C:\\Users\\admin\\AppData\\Local\\Temp\\ipykernel_23380\\2674592679.py:2: DeprecationWarning: `recreate_collection` method is deprecated and will be removed in the future. Use `collection_exists` to check collection existence and `create_collection` instead.\n",
      "  client.recreate_collection(\n"
     ]
    },
    {
     "data": {
      "text/plain": [
       "True"
      ]
     },
     "execution_count": 4,
     "metadata": {},
     "output_type": "execute_result"
    }
   ],
   "execution_count": 4
  },
  {
   "metadata": {
    "ExecuteTime": {
     "end_time": "2025-04-18T00:41:46.383453Z",
     "start_time": "2025-04-18T00:41:44.773042Z"
    }
   },
   "cell_type": "code",
   "source": [
    "# Tạo collection cho image embeddings\n",
    "client.recreate_collection(\n",
    "    collection_name=\"image_collection\",\n",
    "    vectors_config=models.VectorParams(\n",
    "        size=1280,\n",
    "        distance=models.Distance.COSINE\n",
    "    )\n",
    ")"
   ],
   "id": "a776513253b7b367",
   "outputs": [
    {
     "name": "stderr",
     "output_type": "stream",
     "text": [
      "C:\\Users\\admin\\AppData\\Local\\Temp\\ipykernel_23380\\3783336193.py:2: DeprecationWarning: `recreate_collection` method is deprecated and will be removed in the future. Use `collection_exists` to check collection existence and `create_collection` instead.\n",
      "  client.recreate_collection(\n"
     ]
    },
    {
     "data": {
      "text/plain": [
       "True"
      ]
     },
     "execution_count": 6,
     "metadata": {},
     "output_type": "execute_result"
    }
   ],
   "execution_count": 6
  },
  {
   "metadata": {
    "ExecuteTime": {
     "end_time": "2025-04-18T00:41:47.967429Z",
     "start_time": "2025-04-18T00:41:46.400849Z"
    }
   },
   "cell_type": "code",
   "source": [
    "# Tạo collection cho shape embeddings\n",
    "client.recreate_collection(\n",
    "    collection_name=\"shape_collection\",\n",
    "    vectors_config=models.VectorParams(\n",
    "        size=1280,\n",
    "        distance=models.Distance.COSINE\n",
    "    )\n",
    ")"
   ],
   "id": "b8ae7b21f912da64",
   "outputs": [
    {
     "name": "stderr",
     "output_type": "stream",
     "text": [
      "C:\\Users\\admin\\AppData\\Local\\Temp\\ipykernel_23380\\2264437393.py:2: DeprecationWarning: `recreate_collection` method is deprecated and will be removed in the future. Use `collection_exists` to check collection existence and `create_collection` instead.\n",
      "  client.recreate_collection(\n"
     ]
    },
    {
     "data": {
      "text/plain": [
       "True"
      ]
     },
     "execution_count": 7,
     "metadata": {},
     "output_type": "execute_result"
    }
   ],
   "execution_count": 7
  },
  {
   "metadata": {
    "ExecuteTime": {
     "end_time": "2025-04-23T02:07:31.225743Z",
     "start_time": "2025-04-23T02:07:31.195111Z"
    }
   },
   "cell_type": "code",
   "source": [
    "import os\n",
    "import numpy as np\n",
    "from qdrant_client import QdrantClient\n",
    "from qdrant_client import models\n",
    "import glob\n",
    "from tqdm import tqdm"
   ],
   "id": "711990d1ad6c81d5",
   "outputs": [],
   "execution_count": 4
  },
  {
   "metadata": {
    "ExecuteTime": {
     "end_time": "2025-04-23T02:07:32.356634Z",
     "start_time": "2025-04-23T02:07:32.346512Z"
    }
   },
   "cell_type": "code",
   "source": [
    "# Định nghĩa đường dẫn đến dữ liệu\n",
    "BASE_DIR = \"D:/private\" # Thay đổi thành đường dẫn chính nếu cần\n",
    "TEXT_EMBED_DIR = os.path.join(BASE_DIR, \"text_embed\")\n",
    "IMAGE_EMBED_DIR = os.path.join(BASE_DIR, \"image_embed\")\n",
    "SHAPE_EMBED_DIR = os.path.join(BASE_DIR, \"objects_dataset_npy_10000/objects\")\n",
    "OBJECTS_DIR = os.path.join(BASE_DIR, \"objects_dataset/objects\")\n",
    "AUGMENT_DIR = os.path.join(BASE_DIR, \"augment2d_dataset/objects\")\n",
    "SCENES_DIR = os.path.join(BASE_DIR, \"scenes\")"
   ],
   "id": "787ed1f47715aa31",
   "outputs": [],
   "execution_count": 5
  },
  {
   "metadata": {
    "ExecuteTime": {
     "end_time": "2025-04-18T00:42:15.118621Z",
     "start_time": "2025-04-18T00:42:15.108932Z"
    }
   },
   "cell_type": "code",
   "source": [
    "def upload_text_embeddings():\n",
    "    uuid_dirs = [d for d in os.listdir(TEXT_EMBED_DIR) if os.path.isdir(os.path.join(TEXT_EMBED_DIR, d))]\n",
    "\n",
    "    for uuid in tqdm(uuid_dirs):\n",
    "        embed_path = os.path.join(TEXT_EMBED_DIR, uuid, \"text_embed.npy\")\n",
    "        query_path = os.path.join(SCENES_DIR, uuid, \"query.txt\")\n",
    "        if os.path.exists(embed_path):\n",
    "            embedding = np.load(embed_path)\n",
    "            with open(query_path, \"r\") as f:\n",
    "                query = f.read()\n",
    "\n",
    "\n",
    "            client.upsert(\n",
    "                collection_name=\"text_collection\",\n",
    "                points=[\n",
    "                    models.PointStruct(\n",
    "                        id=uuid.replace(\"-\", \"\"),\n",
    "                        vector=embedding.flatten().tolist(),\n",
    "                        payload={\n",
    "                            \"uuid\": uuid,\n",
    "                            \"type\": \"text\",\n",
    "                            \"query\": query\n",
    "                        }\n",
    "                    )\n",
    "                ]\n",
    "            )\n"
   ],
   "id": "e94e1b08bd6a1513",
   "outputs": [],
   "execution_count": 11
  },
  {
   "metadata": {
    "ExecuteTime": {
     "end_time": "2025-04-18T00:42:19.261305Z",
     "start_time": "2025-04-18T00:42:16.907871Z"
    }
   },
   "cell_type": "code",
   "source": "upload_text_embeddings()",
   "id": "b771c2f5132c1d",
   "outputs": [
    {
     "name": "stderr",
     "output_type": "stream",
     "text": [
      "100%|██████████| 50/50 [00:02<00:00, 21.41it/s]\n"
     ]
    }
   ],
   "execution_count": 12
  },
  {
   "metadata": {
    "ExecuteTime": {
     "end_time": "2025-04-18T01:16:03.215186Z",
     "start_time": "2025-04-18T01:16:03.184395Z"
    }
   },
   "cell_type": "code",
   "source": [
    "def upload_image_embeddings():\n",
    "    uuid_dirs = [\n",
    "        d for d in os.listdir(IMAGE_EMBED_DIR)\n",
    "        if os.path.isdir(os.path.join(IMAGE_EMBED_DIR, d))\n",
    "    ]\n",
    "    point_id = 0\n",
    "\n",
    "    for uuid in uuid_dirs:\n",
    "        uuid_dir = os.path.join(IMAGE_EMBED_DIR, uuid)\n",
    "        embed_files = glob.glob(os.path.join(uuid_dir, \"*.npy\"))\n",
    "\n",
    "        for embed_file in tqdm(embed_files):\n",
    "            file_name = os.path.basename(embed_file)\n",
    "            origin_path = os.path.join(OBJECTS_DIR, uuid, \"image.jpg\")\n",
    "            if file_name[-5] == \"1\": image_path = origin_path\n",
    "            else: image_path = os.path.join(AUGMENT_DIR, file_name)\n",
    "\n",
    "\n",
    "            embedding = np.load(embed_file)\n",
    "\n",
    "            # unique_id = file_name.replace(\".npy\", \"\").replace(\"-\", \"\").replace(\"_\", \"img\")\n",
    "            unique_id = f\"{uuid.replace('-', '')}_{os.path.splitext(file_name)[0]}\"\n",
    "\n",
    "            client.upsert(\n",
    "                collection_name=\"image_collection\",\n",
    "                points=[\n",
    "                    models.PointStruct(\n",
    "                        id=point_id,\n",
    "                        vector=embedding.flatten().tolist(),\n",
    "                        payload={\n",
    "                            \"uuid\": uuid,\n",
    "                            \"type\": \"image\",\n",
    "                            \"image_path\": image_path,\n",
    "                            \"origin_path\": origin_path,\n",
    "                            \"file_name\": file_name,\n",
    "                        }\n",
    "                    )\n",
    "                ]\n",
    "            )\n",
    "            point_id += 1\n"
   ],
   "id": "1367a7bdde36921f",
   "outputs": [],
   "execution_count": 19
  },
  {
   "metadata": {
    "ExecuteTime": {
     "end_time": "2025-04-18T01:16:20.387360Z",
     "start_time": "2025-04-18T01:16:05.316263Z"
    }
   },
   "cell_type": "code",
   "source": "upload_image_embeddings()",
   "id": "9d431d1090edcbca",
   "outputs": [
    {
     "name": "stderr",
     "output_type": "stream",
     "text": [
      "100%|██████████| 13/13 [00:00<00:00, 36.41it/s]\n",
      "100%|██████████| 13/13 [00:00<00:00, 47.75it/s]\n",
      "100%|██████████| 13/13 [00:00<00:00, 46.30it/s]\n",
      "100%|██████████| 13/13 [00:00<00:00, 49.11it/s]\n",
      "100%|██████████| 13/13 [00:00<00:00, 41.34it/s]\n",
      "100%|██████████| 13/13 [00:00<00:00, 42.07it/s]\n",
      "100%|██████████| 13/13 [00:00<00:00, 42.19it/s]\n",
      "100%|██████████| 13/13 [00:00<00:00, 41.50it/s]\n",
      "100%|██████████| 13/13 [00:00<00:00, 44.89it/s]\n",
      "100%|██████████| 13/13 [00:00<00:00, 51.46it/s]\n",
      "100%|██████████| 13/13 [00:00<00:00, 41.03it/s]\n",
      "100%|██████████| 13/13 [00:00<00:00, 41.43it/s]\n",
      "100%|██████████| 13/13 [00:00<00:00, 45.92it/s]\n",
      "100%|██████████| 13/13 [00:00<00:00, 35.63it/s]\n",
      "100%|██████████| 13/13 [00:00<00:00, 40.66it/s]\n",
      "100%|██████████| 13/13 [00:00<00:00, 46.76it/s]\n",
      "100%|██████████| 13/13 [00:00<00:00, 38.96it/s]\n",
      "100%|██████████| 13/13 [00:00<00:00, 59.71it/s]\n",
      "100%|██████████| 13/13 [00:00<00:00, 44.04it/s]\n",
      "100%|██████████| 13/13 [00:00<00:00, 48.14it/s]\n",
      "100%|██████████| 13/13 [00:00<00:00, 45.52it/s]\n",
      "100%|██████████| 13/13 [00:00<00:00, 35.69it/s]\n",
      "100%|██████████| 13/13 [00:00<00:00, 37.10it/s]\n",
      "100%|██████████| 13/13 [00:00<00:00, 44.53it/s]\n",
      "100%|██████████| 13/13 [00:00<00:00, 32.23it/s]\n",
      "100%|██████████| 13/13 [00:00<00:00, 48.48it/s]\n",
      "100%|██████████| 13/13 [00:00<00:00, 44.90it/s]\n",
      "100%|██████████| 13/13 [00:00<00:00, 41.97it/s]\n",
      "100%|██████████| 13/13 [00:00<00:00, 48.11it/s]\n",
      "100%|██████████| 13/13 [00:00<00:00, 44.29it/s]\n",
      "100%|██████████| 13/13 [00:00<00:00, 35.14it/s]\n",
      "100%|██████████| 13/13 [00:00<00:00, 48.96it/s]\n",
      "100%|██████████| 13/13 [00:00<00:00, 45.44it/s]\n",
      "100%|██████████| 13/13 [00:00<00:00, 36.90it/s]\n",
      "100%|██████████| 13/13 [00:00<00:00, 45.27it/s]\n",
      "100%|██████████| 13/13 [00:00<00:00, 56.87it/s]\n",
      "100%|██████████| 13/13 [00:00<00:00, 35.43it/s]\n",
      "100%|██████████| 13/13 [00:00<00:00, 50.68it/s]\n",
      "100%|██████████| 13/13 [00:00<00:00, 40.48it/s]\n",
      "100%|██████████| 13/13 [00:00<00:00, 50.36it/s]\n",
      "100%|██████████| 13/13 [00:00<00:00, 49.20it/s]\n",
      "100%|██████████| 13/13 [00:00<00:00, 38.70it/s]\n",
      "100%|██████████| 13/13 [00:00<00:00, 48.73it/s]\n",
      "100%|██████████| 13/13 [00:00<00:00, 46.06it/s]\n",
      "100%|██████████| 13/13 [00:00<00:00, 47.48it/s]\n",
      "100%|██████████| 13/13 [00:00<00:00, 41.42it/s]\n",
      "100%|██████████| 13/13 [00:00<00:00, 51.33it/s]\n",
      "100%|██████████| 13/13 [00:00<00:00, 42.95it/s]\n",
      "100%|██████████| 13/13 [00:00<00:00, 44.30it/s]\n",
      "100%|██████████| 13/13 [00:00<00:00, 53.46it/s]\n"
     ]
    }
   ],
   "execution_count": 20
  },
  {
   "metadata": {
    "ExecuteTime": {
     "end_time": "2025-04-18T00:46:42.987032Z",
     "start_time": "2025-04-18T00:46:42.975267Z"
    }
   },
   "cell_type": "code",
   "source": [
    "def upload_shape_embeddings():\n",
    "    uuid_dirs = [\n",
    "        d for d in os.listdir(SHAPE_EMBED_DIR)\n",
    "        if os.path.isdir(\n",
    "            os.path.join(SHAPE_EMBED_DIR, d)\n",
    "        )\n",
    "    ]\n",
    "\n",
    "    for uuid in tqdm(uuid_dirs):\n",
    "        embed_path = os.path.join(SHAPE_EMBED_DIR, uuid, \"shape_embedding.npy\")\n",
    "\n",
    "        if os.path.exists(embed_path):\n",
    "            embedding = np.load(embed_path)\n",
    "\n",
    "            client.upsert(\n",
    "                collection_name=\"shape_collection\",\n",
    "                points=[\n",
    "                    models.PointStruct(\n",
    "                        id=uuid.replace(\"-\", \"\"),\n",
    "                        vector=embedding.flatten().tolist(),\n",
    "                        payload={\n",
    "                            \"uuid\": uuid,\n",
    "                            \"type\": \"shape\",\n",
    "                            \"model_path\": os.path.join(SHAPE_EMBED_DIR, uuid, \"normalized_model.npy\")\n",
    "                        }\n",
    "                    )\n",
    "                ]\n",
    "            )"
   ],
   "id": "ed7807dd62b576f0",
   "outputs": [],
   "execution_count": 15
  },
  {
   "metadata": {
    "ExecuteTime": {
     "end_time": "2025-04-18T00:46:47.409620Z",
     "start_time": "2025-04-18T00:46:45.443415Z"
    }
   },
   "cell_type": "code",
   "source": "upload_shape_embeddings()",
   "id": "6e031f7d9010eb87",
   "outputs": [
    {
     "name": "stderr",
     "output_type": "stream",
     "text": [
      "100%|██████████| 50/50 [00:01<00:00, 25.59it/s]\n"
     ]
    }
   ],
   "execution_count": 16
  },
  {
   "metadata": {
    "ExecuteTime": {
     "end_time": "2025-04-18T00:46:49.836748Z",
     "start_time": "2025-04-18T00:46:49.809137Z"
    }
   },
   "cell_type": "code",
   "source": [
    "# Test thu truy van\n",
    "scroll_result = client.scroll(\n",
    "    collection_name=\"text_collection\",\n",
    "    limit=2,\n",
    "    with_vectors=True\n",
    ")\n",
    "vector = scroll_result[0][1].vector\n",
    "query = scroll_result[0][1].payload[\"query\"]\n",
    "uuid = scroll_result[0][1].payload[\"uuid\"]\n",
    "query, uuid"
   ],
   "id": "f44fc3d1a787824a",
   "outputs": [
    {
     "data": {
      "text/plain": [
       "('a twin-sized bed frame with a folded-down trundle bed, featuring dark brown wooden legs and slats, a light gray fabric headboard and footboard, and two matching gray upholstered seat cushions with decorative buttons.',\n",
       " '08df38e7-b9ec-40d1-8652-b1857959a6c7')"
      ]
     },
     "execution_count": 17,
     "metadata": {},
     "output_type": "execute_result"
    }
   ],
   "execution_count": 17
  },
  {
   "metadata": {
    "ExecuteTime": {
     "end_time": "2025-04-18T00:46:51.719132Z",
     "start_time": "2025-04-18T00:46:51.663297Z"
    }
   },
   "cell_type": "code",
   "source": [
    "search_result = client.search(\n",
    "    collection_name=\"shape_collection\",\n",
    "    query_vector=vector,\n",
    "    limit=5\n",
    ")\n",
    "\n",
    "for i, hit in enumerate(search_result):\n",
    "    print(f\"{i}. ID: {hit.id}, Score: {hit.score}\")\n",
    "\n",
    "print(\"-\" * 20)\n",
    "search_result = client.search(\n",
    "    collection_name=\"image_collection\",\n",
    "    query_vector=vector,\n",
    "    limit=5\n",
    ")\n",
    "\n",
    "for i, hit in enumerate(search_result):\n",
    "    print(f\"{i}. ID: {hit.payload['uuid']}, Score: {hit.score}\")"
   ],
   "id": "76328c704b8e333",
   "outputs": [
    {
     "name": "stdout",
     "output_type": "stream",
     "text": [
      "0. ID: ec366e16-681d-4621-ac33-56536ce237a1, Score: 0.11819115\n",
      "1. ID: 27c0c74b-d03c-476c-a8e0-01d2546fc894, Score: 0.11192697\n",
      "2. ID: a63e6333-b3b8-4487-b3ae-7c8c5e3092e8, Score: 0.101223946\n",
      "3. ID: 24af0746-d902-450e-b0b5-98ab28db8c2d, Score: 0.101177335\n",
      "4. ID: 94e953b8-4c64-4475-accb-335b1a120e48, Score: 0.099268466\n",
      "--------------------\n",
      "0. ID: a63e6333-b3b8-4487-b3ae-7c8c5e3092e8, Score: 0.3459917\n",
      "1. ID: a63e6333-b3b8-4487-b3ae-7c8c5e3092e8, Score: 0.3375696\n",
      "2. ID: a63e6333-b3b8-4487-b3ae-7c8c5e3092e8, Score: 0.3360669\n",
      "3. ID: a63e6333-b3b8-4487-b3ae-7c8c5e3092e8, Score: 0.33280343\n",
      "4. ID: a63e6333-b3b8-4487-b3ae-7c8c5e3092e8, Score: 0.32907182\n"
     ]
    },
    {
     "name": "stderr",
     "output_type": "stream",
     "text": [
      "C:\\Users\\admin\\AppData\\Local\\Temp\\ipykernel_23380\\204628471.py:1: DeprecationWarning: `search` method is deprecated and will be removed in the future. Use `query_points` instead.\n",
      "  search_result = client.search(\n",
      "C:\\Users\\admin\\AppData\\Local\\Temp\\ipykernel_23380\\204628471.py:11: DeprecationWarning: `search` method is deprecated and will be removed in the future. Use `query_points` instead.\n",
      "  search_result = client.search(\n"
     ]
    }
   ],
   "execution_count": 18
  }
 ],
 "metadata": {
  "kernelspec": {
   "display_name": "Python 3",
   "language": "python",
   "name": "python3"
  },
  "language_info": {
   "codemirror_mode": {
    "name": "ipython",
    "version": 2
   },
   "file_extension": ".py",
   "mimetype": "text/x-python",
   "name": "python",
   "nbconvert_exporter": "python",
   "pygments_lexer": "ipython2",
   "version": "2.7.6"
  }
 },
 "nbformat": 4,
 "nbformat_minor": 5
}
