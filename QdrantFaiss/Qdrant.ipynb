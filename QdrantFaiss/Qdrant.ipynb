{
 "cells": [
  {
   "cell_type": "code",
   "id": "initial_id",
   "metadata": {
    "collapsed": true,
    "ExecuteTime": {
     "end_time": "2025-04-17T13:24:19.224745Z",
     "start_time": "2025-04-17T13:24:18.106478Z"
    }
   },
   "source": [
    "from qdrant_client import QdrantClient\n",
    "from qdrant_client.http import models"
   ],
   "outputs": [],
   "execution_count": 1
  },
  {
   "metadata": {
    "ExecuteTime": {
     "end_time": "2025-04-17T17:36:20.114901Z",
     "start_time": "2025-04-17T17:36:15.370221Z"
    }
   },
   "cell_type": "code",
   "source": "client = QdrantClient(host=\"localhost\", port=6333)",
   "id": "863fd0d22eed78c4",
   "outputs": [],
   "execution_count": 141
  },
  {
   "metadata": {
    "ExecuteTime": {
     "end_time": "2025-04-17T17:36:33.369122Z",
     "start_time": "2025-04-17T17:36:29.114843Z"
    }
   },
   "cell_type": "code",
   "source": [
    "collections = client.get_collections()\n",
    "print(\"Kết nối thành công! Các collections:\", collections)"
   ],
   "id": "dd8300f3276a1e66",
   "outputs": [
    {
     "ename": "ResponseHandlingException",
     "evalue": "[WinError 10061] No connection could be made because the target machine actively refused it",
     "output_type": "error",
     "traceback": [
      "\u001B[1;31m---------------------------------------------------------------------------\u001B[0m",
      "\u001B[1;31mConnectionRefusedError\u001B[0m                    Traceback (most recent call last)",
      "File \u001B[1;32m~\\miniconda3\\envs\\pytorch3d\\lib\\site-packages\\httpcore\\_exceptions.py:10\u001B[0m, in \u001B[0;36mmap_exceptions\u001B[1;34m(map)\u001B[0m\n\u001B[0;32m      9\u001B[0m \u001B[38;5;28;01mtry\u001B[39;00m:\n\u001B[1;32m---> 10\u001B[0m     \u001B[38;5;28;01myield\u001B[39;00m\n\u001B[0;32m     11\u001B[0m \u001B[38;5;28;01mexcept\u001B[39;00m \u001B[38;5;167;01mException\u001B[39;00m \u001B[38;5;28;01mas\u001B[39;00m exc:  \u001B[38;5;66;03m# noqa: PIE786\u001B[39;00m\n",
      "File \u001B[1;32m~\\miniconda3\\envs\\pytorch3d\\lib\\site-packages\\httpcore\\_backends\\sync.py:206\u001B[0m, in \u001B[0;36mSyncBackend.connect_tcp\u001B[1;34m(self, host, port, timeout, local_address, socket_options)\u001B[0m\n\u001B[0;32m    205\u001B[0m \u001B[38;5;28;01mwith\u001B[39;00m map_exceptions(exc_map):\n\u001B[1;32m--> 206\u001B[0m     sock \u001B[38;5;241m=\u001B[39m \u001B[43msocket\u001B[49m\u001B[38;5;241;43m.\u001B[39;49m\u001B[43mcreate_connection\u001B[49m\u001B[43m(\u001B[49m\n\u001B[0;32m    207\u001B[0m \u001B[43m        \u001B[49m\u001B[43maddress\u001B[49m\u001B[43m,\u001B[49m\n\u001B[0;32m    208\u001B[0m \u001B[43m        \u001B[49m\u001B[43mtimeout\u001B[49m\u001B[43m,\u001B[49m\n\u001B[0;32m    209\u001B[0m \u001B[43m        \u001B[49m\u001B[43msource_address\u001B[49m\u001B[38;5;241;43m=\u001B[39;49m\u001B[43msource_address\u001B[49m\u001B[43m,\u001B[49m\n\u001B[0;32m    210\u001B[0m \u001B[43m    \u001B[49m\u001B[43m)\u001B[49m\n\u001B[0;32m    211\u001B[0m     \u001B[38;5;28;01mfor\u001B[39;00m option \u001B[38;5;129;01min\u001B[39;00m socket_options:\n",
      "File \u001B[1;32m~\\miniconda3\\envs\\pytorch3d\\lib\\socket.py:856\u001B[0m, in \u001B[0;36mcreate_connection\u001B[1;34m(address, timeout, source_address)\u001B[0m\n\u001B[0;32m    855\u001B[0m \u001B[38;5;28;01mtry\u001B[39;00m:\n\u001B[1;32m--> 856\u001B[0m     \u001B[38;5;28;01mraise\u001B[39;00m err\n\u001B[0;32m    857\u001B[0m \u001B[38;5;28;01mfinally\u001B[39;00m:\n\u001B[0;32m    858\u001B[0m     \u001B[38;5;66;03m# Break explicitly a reference cycle\u001B[39;00m\n",
      "File \u001B[1;32m~\\miniconda3\\envs\\pytorch3d\\lib\\socket.py:844\u001B[0m, in \u001B[0;36mcreate_connection\u001B[1;34m(address, timeout, source_address)\u001B[0m\n\u001B[0;32m    843\u001B[0m     sock\u001B[38;5;241m.\u001B[39mbind(source_address)\n\u001B[1;32m--> 844\u001B[0m \u001B[43msock\u001B[49m\u001B[38;5;241;43m.\u001B[39;49m\u001B[43mconnect\u001B[49m\u001B[43m(\u001B[49m\u001B[43msa\u001B[49m\u001B[43m)\u001B[49m\n\u001B[0;32m    845\u001B[0m \u001B[38;5;66;03m# Break explicitly a reference cycle\u001B[39;00m\n",
      "\u001B[1;31mConnectionRefusedError\u001B[0m: [WinError 10061] No connection could be made because the target machine actively refused it",
      "\nThe above exception was the direct cause of the following exception:\n",
      "\u001B[1;31mConnectError\u001B[0m                              Traceback (most recent call last)",
      "File \u001B[1;32m~\\miniconda3\\envs\\pytorch3d\\lib\\site-packages\\httpx\\_transports\\default.py:69\u001B[0m, in \u001B[0;36mmap_httpcore_exceptions\u001B[1;34m()\u001B[0m\n\u001B[0;32m     68\u001B[0m \u001B[38;5;28;01mtry\u001B[39;00m:\n\u001B[1;32m---> 69\u001B[0m     \u001B[38;5;28;01myield\u001B[39;00m\n\u001B[0;32m     70\u001B[0m \u001B[38;5;28;01mexcept\u001B[39;00m \u001B[38;5;167;01mException\u001B[39;00m \u001B[38;5;28;01mas\u001B[39;00m exc:\n",
      "File \u001B[1;32m~\\miniconda3\\envs\\pytorch3d\\lib\\site-packages\\httpx\\_transports\\default.py:233\u001B[0m, in \u001B[0;36mHTTPTransport.handle_request\u001B[1;34m(self, request)\u001B[0m\n\u001B[0;32m    232\u001B[0m \u001B[38;5;28;01mwith\u001B[39;00m map_httpcore_exceptions():\n\u001B[1;32m--> 233\u001B[0m     resp \u001B[38;5;241m=\u001B[39m \u001B[38;5;28;43mself\u001B[39;49m\u001B[38;5;241;43m.\u001B[39;49m\u001B[43m_pool\u001B[49m\u001B[38;5;241;43m.\u001B[39;49m\u001B[43mhandle_request\u001B[49m\u001B[43m(\u001B[49m\u001B[43mreq\u001B[49m\u001B[43m)\u001B[49m\n\u001B[0;32m    235\u001B[0m \u001B[38;5;28;01massert\u001B[39;00m \u001B[38;5;28misinstance\u001B[39m(resp\u001B[38;5;241m.\u001B[39mstream, typing\u001B[38;5;241m.\u001B[39mIterable)\n",
      "File \u001B[1;32m~\\miniconda3\\envs\\pytorch3d\\lib\\site-packages\\httpcore\\_sync\\connection_pool.py:268\u001B[0m, in \u001B[0;36mConnectionPool.handle_request\u001B[1;34m(self, request)\u001B[0m\n\u001B[0;32m    267\u001B[0m         \u001B[38;5;28mself\u001B[39m\u001B[38;5;241m.\u001B[39mresponse_closed(status)\n\u001B[1;32m--> 268\u001B[0m     \u001B[38;5;28;01mraise\u001B[39;00m exc\n\u001B[0;32m    269\u001B[0m \u001B[38;5;28;01melse\u001B[39;00m:\n",
      "File \u001B[1;32m~\\miniconda3\\envs\\pytorch3d\\lib\\site-packages\\httpcore\\_sync\\connection_pool.py:251\u001B[0m, in \u001B[0;36mConnectionPool.handle_request\u001B[1;34m(self, request)\u001B[0m\n\u001B[0;32m    250\u001B[0m \u001B[38;5;28;01mtry\u001B[39;00m:\n\u001B[1;32m--> 251\u001B[0m     response \u001B[38;5;241m=\u001B[39m \u001B[43mconnection\u001B[49m\u001B[38;5;241;43m.\u001B[39;49m\u001B[43mhandle_request\u001B[49m\u001B[43m(\u001B[49m\u001B[43mrequest\u001B[49m\u001B[43m)\u001B[49m\n\u001B[0;32m    252\u001B[0m \u001B[38;5;28;01mexcept\u001B[39;00m ConnectionNotAvailable:\n\u001B[0;32m    253\u001B[0m     \u001B[38;5;66;03m# The ConnectionNotAvailable exception is a special case, that\u001B[39;00m\n\u001B[0;32m    254\u001B[0m     \u001B[38;5;66;03m# indicates we need to retry the request on a new connection.\u001B[39;00m\n\u001B[1;32m   (...)\u001B[0m\n\u001B[0;32m    258\u001B[0m     \u001B[38;5;66;03m# might end up as an HTTP/2 connection, but which actually ends\u001B[39;00m\n\u001B[0;32m    259\u001B[0m     \u001B[38;5;66;03m# up as HTTP/1.1.\u001B[39;00m\n",
      "File \u001B[1;32m~\\miniconda3\\envs\\pytorch3d\\lib\\site-packages\\httpcore\\_sync\\connection.py:99\u001B[0m, in \u001B[0;36mHTTPConnection.handle_request\u001B[1;34m(self, request)\u001B[0m\n\u001B[0;32m     98\u001B[0m         \u001B[38;5;28mself\u001B[39m\u001B[38;5;241m.\u001B[39m_connect_failed \u001B[38;5;241m=\u001B[39m \u001B[38;5;28;01mTrue\u001B[39;00m\n\u001B[1;32m---> 99\u001B[0m         \u001B[38;5;28;01mraise\u001B[39;00m exc\n\u001B[0;32m    100\u001B[0m \u001B[38;5;28;01melif\u001B[39;00m \u001B[38;5;129;01mnot\u001B[39;00m \u001B[38;5;28mself\u001B[39m\u001B[38;5;241m.\u001B[39m_connection\u001B[38;5;241m.\u001B[39mis_available():\n",
      "File \u001B[1;32m~\\miniconda3\\envs\\pytorch3d\\lib\\site-packages\\httpcore\\_sync\\connection.py:76\u001B[0m, in \u001B[0;36mHTTPConnection.handle_request\u001B[1;34m(self, request)\u001B[0m\n\u001B[0;32m     75\u001B[0m \u001B[38;5;28;01mtry\u001B[39;00m:\n\u001B[1;32m---> 76\u001B[0m     stream \u001B[38;5;241m=\u001B[39m \u001B[38;5;28;43mself\u001B[39;49m\u001B[38;5;241;43m.\u001B[39;49m\u001B[43m_connect\u001B[49m\u001B[43m(\u001B[49m\u001B[43mrequest\u001B[49m\u001B[43m)\u001B[49m\n\u001B[0;32m     78\u001B[0m     ssl_object \u001B[38;5;241m=\u001B[39m stream\u001B[38;5;241m.\u001B[39mget_extra_info(\u001B[38;5;124m\"\u001B[39m\u001B[38;5;124mssl_object\u001B[39m\u001B[38;5;124m\"\u001B[39m)\n",
      "File \u001B[1;32m~\\miniconda3\\envs\\pytorch3d\\lib\\site-packages\\httpcore\\_sync\\connection.py:124\u001B[0m, in \u001B[0;36mHTTPConnection._connect\u001B[1;34m(self, request)\u001B[0m\n\u001B[0;32m    123\u001B[0m \u001B[38;5;28;01mwith\u001B[39;00m Trace(\u001B[38;5;124m\"\u001B[39m\u001B[38;5;124mconnect_tcp\u001B[39m\u001B[38;5;124m\"\u001B[39m, logger, request, kwargs) \u001B[38;5;28;01mas\u001B[39;00m trace:\n\u001B[1;32m--> 124\u001B[0m     stream \u001B[38;5;241m=\u001B[39m \u001B[38;5;28mself\u001B[39m\u001B[38;5;241m.\u001B[39m_network_backend\u001B[38;5;241m.\u001B[39mconnect_tcp(\u001B[38;5;241m*\u001B[39m\u001B[38;5;241m*\u001B[39mkwargs)\n\u001B[0;32m    125\u001B[0m     trace\u001B[38;5;241m.\u001B[39mreturn_value \u001B[38;5;241m=\u001B[39m stream\n",
      "File \u001B[1;32m~\\miniconda3\\envs\\pytorch3d\\lib\\site-packages\\httpcore\\_backends\\sync.py:213\u001B[0m, in \u001B[0;36mSyncBackend.connect_tcp\u001B[1;34m(self, host, port, timeout, local_address, socket_options)\u001B[0m\n\u001B[0;32m    212\u001B[0m         sock\u001B[38;5;241m.\u001B[39msetsockopt(\u001B[38;5;241m*\u001B[39moption)  \u001B[38;5;66;03m# pragma: no cover\u001B[39;00m\n\u001B[1;32m--> 213\u001B[0m     sock\u001B[38;5;241m.\u001B[39msetsockopt(socket\u001B[38;5;241m.\u001B[39mIPPROTO_TCP, socket\u001B[38;5;241m.\u001B[39mTCP_NODELAY, \u001B[38;5;241m1\u001B[39m)\n\u001B[0;32m    214\u001B[0m \u001B[38;5;28;01mreturn\u001B[39;00m SyncStream(sock)\n",
      "File \u001B[1;32m~\\miniconda3\\envs\\pytorch3d\\lib\\contextlib.py:137\u001B[0m, in \u001B[0;36m_GeneratorContextManager.__exit__\u001B[1;34m(self, typ, value, traceback)\u001B[0m\n\u001B[0;32m    136\u001B[0m \u001B[38;5;28;01mtry\u001B[39;00m:\n\u001B[1;32m--> 137\u001B[0m     \u001B[38;5;28;43mself\u001B[39;49m\u001B[38;5;241;43m.\u001B[39;49m\u001B[43mgen\u001B[49m\u001B[38;5;241;43m.\u001B[39;49m\u001B[43mthrow\u001B[49m\u001B[43m(\u001B[49m\u001B[43mtyp\u001B[49m\u001B[43m,\u001B[49m\u001B[43m \u001B[49m\u001B[43mvalue\u001B[49m\u001B[43m,\u001B[49m\u001B[43m \u001B[49m\u001B[43mtraceback\u001B[49m\u001B[43m)\u001B[49m\n\u001B[0;32m    138\u001B[0m \u001B[38;5;28;01mexcept\u001B[39;00m \u001B[38;5;167;01mStopIteration\u001B[39;00m \u001B[38;5;28;01mas\u001B[39;00m exc:\n\u001B[0;32m    139\u001B[0m     \u001B[38;5;66;03m# Suppress StopIteration *unless* it's the same exception that\u001B[39;00m\n\u001B[0;32m    140\u001B[0m     \u001B[38;5;66;03m# was passed to throw().  This prevents a StopIteration\u001B[39;00m\n\u001B[0;32m    141\u001B[0m     \u001B[38;5;66;03m# raised inside the \"with\" statement from being suppressed.\u001B[39;00m\n",
      "File \u001B[1;32m~\\miniconda3\\envs\\pytorch3d\\lib\\site-packages\\httpcore\\_exceptions.py:14\u001B[0m, in \u001B[0;36mmap_exceptions\u001B[1;34m(map)\u001B[0m\n\u001B[0;32m     13\u001B[0m     \u001B[38;5;28;01mif\u001B[39;00m \u001B[38;5;28misinstance\u001B[39m(exc, from_exc):\n\u001B[1;32m---> 14\u001B[0m         \u001B[38;5;28;01mraise\u001B[39;00m to_exc(exc) \u001B[38;5;28;01mfrom\u001B[39;00m \u001B[38;5;21;01mexc\u001B[39;00m\n\u001B[0;32m     15\u001B[0m \u001B[38;5;28;01mraise\u001B[39;00m\n",
      "\u001B[1;31mConnectError\u001B[0m: [WinError 10061] No connection could be made because the target machine actively refused it",
      "\nThe above exception was the direct cause of the following exception:\n",
      "\u001B[1;31mConnectError\u001B[0m                              Traceback (most recent call last)",
      "File \u001B[1;32m~\\miniconda3\\envs\\pytorch3d\\lib\\site-packages\\qdrant_client\\http\\api_client.py:116\u001B[0m, in \u001B[0;36mApiClient.send_inner\u001B[1;34m(self, request)\u001B[0m\n\u001B[0;32m    115\u001B[0m \u001B[38;5;28;01mtry\u001B[39;00m:\n\u001B[1;32m--> 116\u001B[0m     response \u001B[38;5;241m=\u001B[39m \u001B[38;5;28;43mself\u001B[39;49m\u001B[38;5;241;43m.\u001B[39;49m\u001B[43m_client\u001B[49m\u001B[38;5;241;43m.\u001B[39;49m\u001B[43msend\u001B[49m\u001B[43m(\u001B[49m\u001B[43mrequest\u001B[49m\u001B[43m)\u001B[49m\n\u001B[0;32m    117\u001B[0m \u001B[38;5;28;01mexcept\u001B[39;00m \u001B[38;5;167;01mException\u001B[39;00m \u001B[38;5;28;01mas\u001B[39;00m e:\n",
      "File \u001B[1;32m~\\miniconda3\\envs\\pytorch3d\\lib\\site-packages\\httpx\\_client.py:914\u001B[0m, in \u001B[0;36mClient.send\u001B[1;34m(self, request, stream, auth, follow_redirects)\u001B[0m\n\u001B[0;32m    912\u001B[0m auth \u001B[38;5;241m=\u001B[39m \u001B[38;5;28mself\u001B[39m\u001B[38;5;241m.\u001B[39m_build_request_auth(request, auth)\n\u001B[1;32m--> 914\u001B[0m response \u001B[38;5;241m=\u001B[39m \u001B[38;5;28;43mself\u001B[39;49m\u001B[38;5;241;43m.\u001B[39;49m\u001B[43m_send_handling_auth\u001B[49m\u001B[43m(\u001B[49m\n\u001B[0;32m    915\u001B[0m \u001B[43m    \u001B[49m\u001B[43mrequest\u001B[49m\u001B[43m,\u001B[49m\n\u001B[0;32m    916\u001B[0m \u001B[43m    \u001B[49m\u001B[43mauth\u001B[49m\u001B[38;5;241;43m=\u001B[39;49m\u001B[43mauth\u001B[49m\u001B[43m,\u001B[49m\n\u001B[0;32m    917\u001B[0m \u001B[43m    \u001B[49m\u001B[43mfollow_redirects\u001B[49m\u001B[38;5;241;43m=\u001B[39;49m\u001B[43mfollow_redirects\u001B[49m\u001B[43m,\u001B[49m\n\u001B[0;32m    918\u001B[0m \u001B[43m    \u001B[49m\u001B[43mhistory\u001B[49m\u001B[38;5;241;43m=\u001B[39;49m\u001B[43m[\u001B[49m\u001B[43m]\u001B[49m\u001B[43m,\u001B[49m\n\u001B[0;32m    919\u001B[0m \u001B[43m\u001B[49m\u001B[43m)\u001B[49m\n\u001B[0;32m    920\u001B[0m \u001B[38;5;28;01mtry\u001B[39;00m:\n",
      "File \u001B[1;32m~\\miniconda3\\envs\\pytorch3d\\lib\\site-packages\\httpx\\_client.py:942\u001B[0m, in \u001B[0;36mClient._send_handling_auth\u001B[1;34m(self, request, auth, follow_redirects, history)\u001B[0m\n\u001B[0;32m    941\u001B[0m \u001B[38;5;28;01mwhile\u001B[39;00m \u001B[38;5;28;01mTrue\u001B[39;00m:\n\u001B[1;32m--> 942\u001B[0m     response \u001B[38;5;241m=\u001B[39m \u001B[38;5;28;43mself\u001B[39;49m\u001B[38;5;241;43m.\u001B[39;49m\u001B[43m_send_handling_redirects\u001B[49m\u001B[43m(\u001B[49m\n\u001B[0;32m    943\u001B[0m \u001B[43m        \u001B[49m\u001B[43mrequest\u001B[49m\u001B[43m,\u001B[49m\n\u001B[0;32m    944\u001B[0m \u001B[43m        \u001B[49m\u001B[43mfollow_redirects\u001B[49m\u001B[38;5;241;43m=\u001B[39;49m\u001B[43mfollow_redirects\u001B[49m\u001B[43m,\u001B[49m\n\u001B[0;32m    945\u001B[0m \u001B[43m        \u001B[49m\u001B[43mhistory\u001B[49m\u001B[38;5;241;43m=\u001B[39;49m\u001B[43mhistory\u001B[49m\u001B[43m,\u001B[49m\n\u001B[0;32m    946\u001B[0m \u001B[43m    \u001B[49m\u001B[43m)\u001B[49m\n\u001B[0;32m    947\u001B[0m     \u001B[38;5;28;01mtry\u001B[39;00m:\n",
      "File \u001B[1;32m~\\miniconda3\\envs\\pytorch3d\\lib\\site-packages\\httpx\\_client.py:979\u001B[0m, in \u001B[0;36mClient._send_handling_redirects\u001B[1;34m(self, request, follow_redirects, history)\u001B[0m\n\u001B[0;32m    977\u001B[0m     hook(request)\n\u001B[1;32m--> 979\u001B[0m response \u001B[38;5;241m=\u001B[39m \u001B[38;5;28;43mself\u001B[39;49m\u001B[38;5;241;43m.\u001B[39;49m\u001B[43m_send_single_request\u001B[49m\u001B[43m(\u001B[49m\u001B[43mrequest\u001B[49m\u001B[43m)\u001B[49m\n\u001B[0;32m    980\u001B[0m \u001B[38;5;28;01mtry\u001B[39;00m:\n",
      "File \u001B[1;32m~\\miniconda3\\envs\\pytorch3d\\lib\\site-packages\\httpx\\_client.py:1015\u001B[0m, in \u001B[0;36mClient._send_single_request\u001B[1;34m(self, request)\u001B[0m\n\u001B[0;32m   1014\u001B[0m \u001B[38;5;28;01mwith\u001B[39;00m request_context(request\u001B[38;5;241m=\u001B[39mrequest):\n\u001B[1;32m-> 1015\u001B[0m     response \u001B[38;5;241m=\u001B[39m \u001B[43mtransport\u001B[49m\u001B[38;5;241;43m.\u001B[39;49m\u001B[43mhandle_request\u001B[49m\u001B[43m(\u001B[49m\u001B[43mrequest\u001B[49m\u001B[43m)\u001B[49m\n\u001B[0;32m   1017\u001B[0m \u001B[38;5;28;01massert\u001B[39;00m \u001B[38;5;28misinstance\u001B[39m(response\u001B[38;5;241m.\u001B[39mstream, SyncByteStream)\n",
      "File \u001B[1;32m~\\miniconda3\\envs\\pytorch3d\\lib\\site-packages\\httpx\\_transports\\default.py:233\u001B[0m, in \u001B[0;36mHTTPTransport.handle_request\u001B[1;34m(self, request)\u001B[0m\n\u001B[0;32m    232\u001B[0m \u001B[38;5;28;01mwith\u001B[39;00m map_httpcore_exceptions():\n\u001B[1;32m--> 233\u001B[0m     resp \u001B[38;5;241m=\u001B[39m \u001B[38;5;28mself\u001B[39m\u001B[38;5;241m.\u001B[39m_pool\u001B[38;5;241m.\u001B[39mhandle_request(req)\n\u001B[0;32m    235\u001B[0m \u001B[38;5;28;01massert\u001B[39;00m \u001B[38;5;28misinstance\u001B[39m(resp\u001B[38;5;241m.\u001B[39mstream, typing\u001B[38;5;241m.\u001B[39mIterable)\n",
      "File \u001B[1;32m~\\miniconda3\\envs\\pytorch3d\\lib\\contextlib.py:137\u001B[0m, in \u001B[0;36m_GeneratorContextManager.__exit__\u001B[1;34m(self, typ, value, traceback)\u001B[0m\n\u001B[0;32m    136\u001B[0m \u001B[38;5;28;01mtry\u001B[39;00m:\n\u001B[1;32m--> 137\u001B[0m     \u001B[38;5;28;43mself\u001B[39;49m\u001B[38;5;241;43m.\u001B[39;49m\u001B[43mgen\u001B[49m\u001B[38;5;241;43m.\u001B[39;49m\u001B[43mthrow\u001B[49m\u001B[43m(\u001B[49m\u001B[43mtyp\u001B[49m\u001B[43m,\u001B[49m\u001B[43m \u001B[49m\u001B[43mvalue\u001B[49m\u001B[43m,\u001B[49m\u001B[43m \u001B[49m\u001B[43mtraceback\u001B[49m\u001B[43m)\u001B[49m\n\u001B[0;32m    138\u001B[0m \u001B[38;5;28;01mexcept\u001B[39;00m \u001B[38;5;167;01mStopIteration\u001B[39;00m \u001B[38;5;28;01mas\u001B[39;00m exc:\n\u001B[0;32m    139\u001B[0m     \u001B[38;5;66;03m# Suppress StopIteration *unless* it's the same exception that\u001B[39;00m\n\u001B[0;32m    140\u001B[0m     \u001B[38;5;66;03m# was passed to throw().  This prevents a StopIteration\u001B[39;00m\n\u001B[0;32m    141\u001B[0m     \u001B[38;5;66;03m# raised inside the \"with\" statement from being suppressed.\u001B[39;00m\n",
      "File \u001B[1;32m~\\miniconda3\\envs\\pytorch3d\\lib\\site-packages\\httpx\\_transports\\default.py:86\u001B[0m, in \u001B[0;36mmap_httpcore_exceptions\u001B[1;34m()\u001B[0m\n\u001B[0;32m     85\u001B[0m message \u001B[38;5;241m=\u001B[39m \u001B[38;5;28mstr\u001B[39m(exc)\n\u001B[1;32m---> 86\u001B[0m \u001B[38;5;28;01mraise\u001B[39;00m mapped_exc(message) \u001B[38;5;28;01mfrom\u001B[39;00m \u001B[38;5;21;01mexc\u001B[39;00m\n",
      "\u001B[1;31mConnectError\u001B[0m: [WinError 10061] No connection could be made because the target machine actively refused it",
      "\nDuring handling of the above exception, another exception occurred:\n",
      "\u001B[1;31mResponseHandlingException\u001B[0m                 Traceback (most recent call last)",
      "Cell \u001B[1;32mIn[143], line 1\u001B[0m\n\u001B[1;32m----> 1\u001B[0m collections \u001B[38;5;241m=\u001B[39m \u001B[43mclient\u001B[49m\u001B[38;5;241;43m.\u001B[39;49m\u001B[43mget_collections\u001B[49m\u001B[43m(\u001B[49m\u001B[43m)\u001B[49m\n\u001B[0;32m      2\u001B[0m \u001B[38;5;28mprint\u001B[39m(\u001B[38;5;124m\"\u001B[39m\u001B[38;5;124mKết nối thành công! Các collections:\u001B[39m\u001B[38;5;124m\"\u001B[39m, collections)\n",
      "File \u001B[1;32m~\\miniconda3\\envs\\pytorch3d\\lib\\site-packages\\qdrant_client\\qdrant_client.py:2140\u001B[0m, in \u001B[0;36mQdrantClient.get_collections\u001B[1;34m(self, **kwargs)\u001B[0m\n\u001B[0;32m   2133\u001B[0m \u001B[38;5;250m\u001B[39m\u001B[38;5;124;03m\"\"\"Get list name of all existing collections\u001B[39;00m\n\u001B[0;32m   2134\u001B[0m \n\u001B[0;32m   2135\u001B[0m \u001B[38;5;124;03mReturns:\u001B[39;00m\n\u001B[0;32m   2136\u001B[0m \u001B[38;5;124;03m    List of the collections\u001B[39;00m\n\u001B[0;32m   2137\u001B[0m \u001B[38;5;124;03m\"\"\"\u001B[39;00m\n\u001B[0;32m   2138\u001B[0m \u001B[38;5;28;01massert\u001B[39;00m \u001B[38;5;28mlen\u001B[39m(kwargs) \u001B[38;5;241m==\u001B[39m \u001B[38;5;241m0\u001B[39m, \u001B[38;5;124mf\u001B[39m\u001B[38;5;124m\"\u001B[39m\u001B[38;5;124mUnknown arguments: \u001B[39m\u001B[38;5;132;01m{\u001B[39;00m\u001B[38;5;28mlist\u001B[39m(kwargs\u001B[38;5;241m.\u001B[39mkeys())\u001B[38;5;132;01m}\u001B[39;00m\u001B[38;5;124m\"\u001B[39m\n\u001B[1;32m-> 2140\u001B[0m \u001B[38;5;28;01mreturn\u001B[39;00m \u001B[38;5;28mself\u001B[39m\u001B[38;5;241m.\u001B[39m_client\u001B[38;5;241m.\u001B[39mget_collections(\u001B[38;5;241m*\u001B[39m\u001B[38;5;241m*\u001B[39mkwargs)\n",
      "File \u001B[1;32m~\\miniconda3\\envs\\pytorch3d\\lib\\site-packages\\qdrant_client\\qdrant_remote.py:2568\u001B[0m, in \u001B[0;36mQdrantRemote.get_collections\u001B[1;34m(self, **kwargs)\u001B[0m\n\u001B[0;32m   2557\u001B[0m     response \u001B[38;5;241m=\u001B[39m \u001B[38;5;28mself\u001B[39m\u001B[38;5;241m.\u001B[39mgrpc_collections\u001B[38;5;241m.\u001B[39mList(\n\u001B[0;32m   2558\u001B[0m         grpc\u001B[38;5;241m.\u001B[39mListCollectionsRequest(), timeout\u001B[38;5;241m=\u001B[39m\u001B[38;5;28mself\u001B[39m\u001B[38;5;241m.\u001B[39m_timeout\n\u001B[0;32m   2559\u001B[0m     )\u001B[38;5;241m.\u001B[39mcollections\n\u001B[0;32m   2560\u001B[0m     \u001B[38;5;28;01mreturn\u001B[39;00m types\u001B[38;5;241m.\u001B[39mCollectionsResponse(\n\u001B[0;32m   2561\u001B[0m         collections\u001B[38;5;241m=\u001B[39m[\n\u001B[0;32m   2562\u001B[0m             GrpcToRest\u001B[38;5;241m.\u001B[39mconvert_collection_description(description)\n\u001B[0;32m   2563\u001B[0m             \u001B[38;5;28;01mfor\u001B[39;00m description \u001B[38;5;129;01min\u001B[39;00m response\n\u001B[0;32m   2564\u001B[0m         ]\n\u001B[0;32m   2565\u001B[0m     )\n\u001B[0;32m   2567\u001B[0m result: Optional[types\u001B[38;5;241m.\u001B[39mCollectionsResponse] \u001B[38;5;241m=\u001B[39m (\n\u001B[1;32m-> 2568\u001B[0m     \u001B[38;5;28;43mself\u001B[39;49m\u001B[38;5;241;43m.\u001B[39;49m\u001B[43mhttp\u001B[49m\u001B[38;5;241;43m.\u001B[39;49m\u001B[43mcollections_api\u001B[49m\u001B[38;5;241;43m.\u001B[39;49m\u001B[43mget_collections\u001B[49m\u001B[43m(\u001B[49m\u001B[43m)\u001B[49m\u001B[38;5;241m.\u001B[39mresult\n\u001B[0;32m   2569\u001B[0m )\n\u001B[0;32m   2570\u001B[0m \u001B[38;5;28;01massert\u001B[39;00m result \u001B[38;5;129;01mis\u001B[39;00m \u001B[38;5;129;01mnot\u001B[39;00m \u001B[38;5;28;01mNone\u001B[39;00m, \u001B[38;5;124m\"\u001B[39m\u001B[38;5;124mGet collections returned None\u001B[39m\u001B[38;5;124m\"\u001B[39m\n\u001B[0;32m   2571\u001B[0m \u001B[38;5;28;01mreturn\u001B[39;00m result\n",
      "File \u001B[1;32m~\\miniconda3\\envs\\pytorch3d\\lib\\site-packages\\qdrant_client\\http\\api\\collections_api.py:330\u001B[0m, in \u001B[0;36mSyncCollectionsApi.get_collections\u001B[1;34m(self)\u001B[0m\n\u001B[0;32m    324\u001B[0m \u001B[38;5;28;01mdef\u001B[39;00m \u001B[38;5;21mget_collections\u001B[39m(\n\u001B[0;32m    325\u001B[0m     \u001B[38;5;28mself\u001B[39m,\n\u001B[0;32m    326\u001B[0m ) \u001B[38;5;241m-\u001B[39m\u001B[38;5;241m>\u001B[39m m\u001B[38;5;241m.\u001B[39mInlineResponse2004:\n\u001B[0;32m    327\u001B[0m \u001B[38;5;250m    \u001B[39m\u001B[38;5;124;03m\"\"\"\u001B[39;00m\n\u001B[0;32m    328\u001B[0m \u001B[38;5;124;03m    Get list name of all existing collections\u001B[39;00m\n\u001B[0;32m    329\u001B[0m \u001B[38;5;124;03m    \"\"\"\u001B[39;00m\n\u001B[1;32m--> 330\u001B[0m     \u001B[38;5;28;01mreturn\u001B[39;00m \u001B[38;5;28;43mself\u001B[39;49m\u001B[38;5;241;43m.\u001B[39;49m\u001B[43m_build_for_get_collections\u001B[49m\u001B[43m(\u001B[49m\u001B[43m)\u001B[49m\n",
      "File \u001B[1;32m~\\miniconda3\\envs\\pytorch3d\\lib\\site-packages\\qdrant_client\\http\\api\\collections_api.py:159\u001B[0m, in \u001B[0;36m_CollectionsApi._build_for_get_collections\u001B[1;34m(self)\u001B[0m\n\u001B[0;32m    155\u001B[0m \u001B[38;5;250m\u001B[39m\u001B[38;5;124;03m\"\"\"\u001B[39;00m\n\u001B[0;32m    156\u001B[0m \u001B[38;5;124;03mGet list name of all existing collections\u001B[39;00m\n\u001B[0;32m    157\u001B[0m \u001B[38;5;124;03m\"\"\"\u001B[39;00m\n\u001B[0;32m    158\u001B[0m headers \u001B[38;5;241m=\u001B[39m {}\n\u001B[1;32m--> 159\u001B[0m \u001B[38;5;28;01mreturn\u001B[39;00m \u001B[38;5;28;43mself\u001B[39;49m\u001B[38;5;241;43m.\u001B[39;49m\u001B[43mapi_client\u001B[49m\u001B[38;5;241;43m.\u001B[39;49m\u001B[43mrequest\u001B[49m\u001B[43m(\u001B[49m\n\u001B[0;32m    160\u001B[0m \u001B[43m    \u001B[49m\u001B[43mtype_\u001B[49m\u001B[38;5;241;43m=\u001B[39;49m\u001B[43mm\u001B[49m\u001B[38;5;241;43m.\u001B[39;49m\u001B[43mInlineResponse2004\u001B[49m\u001B[43m,\u001B[49m\n\u001B[0;32m    161\u001B[0m \u001B[43m    \u001B[49m\u001B[43mmethod\u001B[49m\u001B[38;5;241;43m=\u001B[39;49m\u001B[38;5;124;43m\"\u001B[39;49m\u001B[38;5;124;43mGET\u001B[39;49m\u001B[38;5;124;43m\"\u001B[39;49m\u001B[43m,\u001B[49m\n\u001B[0;32m    162\u001B[0m \u001B[43m    \u001B[49m\u001B[43murl\u001B[49m\u001B[38;5;241;43m=\u001B[39;49m\u001B[38;5;124;43m\"\u001B[39;49m\u001B[38;5;124;43m/collections\u001B[39;49m\u001B[38;5;124;43m\"\u001B[39;49m\u001B[43m,\u001B[49m\n\u001B[0;32m    163\u001B[0m \u001B[43m    \u001B[49m\u001B[43mheaders\u001B[49m\u001B[38;5;241;43m=\u001B[39;49m\u001B[43mheaders\u001B[49m\u001B[43m \u001B[49m\u001B[38;5;28;43;01mif\u001B[39;49;00m\u001B[43m \u001B[49m\u001B[43mheaders\u001B[49m\u001B[43m \u001B[49m\u001B[38;5;28;43;01melse\u001B[39;49;00m\u001B[43m \u001B[49m\u001B[38;5;28;43;01mNone\u001B[39;49;00m\u001B[43m,\u001B[49m\n\u001B[0;32m    164\u001B[0m \u001B[43m\u001B[49m\u001B[43m)\u001B[49m\n",
      "File \u001B[1;32m~\\miniconda3\\envs\\pytorch3d\\lib\\site-packages\\qdrant_client\\http\\api_client.py:89\u001B[0m, in \u001B[0;36mApiClient.request\u001B[1;34m(self, type_, method, url, path_params, **kwargs)\u001B[0m\n\u001B[0;32m     87\u001B[0m     kwargs[\u001B[38;5;124m\"\u001B[39m\u001B[38;5;124mtimeout\u001B[39m\u001B[38;5;124m\"\u001B[39m] \u001B[38;5;241m=\u001B[39m \u001B[38;5;28mint\u001B[39m(kwargs[\u001B[38;5;124m\"\u001B[39m\u001B[38;5;124mparams\u001B[39m\u001B[38;5;124m\"\u001B[39m][\u001B[38;5;124m\"\u001B[39m\u001B[38;5;124mtimeout\u001B[39m\u001B[38;5;124m\"\u001B[39m])\n\u001B[0;32m     88\u001B[0m request \u001B[38;5;241m=\u001B[39m \u001B[38;5;28mself\u001B[39m\u001B[38;5;241m.\u001B[39m_client\u001B[38;5;241m.\u001B[39mbuild_request(method, url, \u001B[38;5;241m*\u001B[39m\u001B[38;5;241m*\u001B[39mkwargs)\n\u001B[1;32m---> 89\u001B[0m \u001B[38;5;28;01mreturn\u001B[39;00m \u001B[38;5;28;43mself\u001B[39;49m\u001B[38;5;241;43m.\u001B[39;49m\u001B[43msend\u001B[49m\u001B[43m(\u001B[49m\u001B[43mrequest\u001B[49m\u001B[43m,\u001B[49m\u001B[43m \u001B[49m\u001B[43mtype_\u001B[49m\u001B[43m)\u001B[49m\n",
      "File \u001B[1;32m~\\miniconda3\\envs\\pytorch3d\\lib\\site-packages\\qdrant_client\\http\\api_client.py:106\u001B[0m, in \u001B[0;36mApiClient.send\u001B[1;34m(self, request, type_)\u001B[0m\n\u001B[0;32m    105\u001B[0m \u001B[38;5;28;01mdef\u001B[39;00m \u001B[38;5;21msend\u001B[39m(\u001B[38;5;28mself\u001B[39m, request: Request, type_: Type[T]) \u001B[38;5;241m-\u001B[39m\u001B[38;5;241m>\u001B[39m T:\n\u001B[1;32m--> 106\u001B[0m     response \u001B[38;5;241m=\u001B[39m \u001B[38;5;28;43mself\u001B[39;49m\u001B[38;5;241;43m.\u001B[39;49m\u001B[43mmiddleware\u001B[49m\u001B[43m(\u001B[49m\u001B[43mrequest\u001B[49m\u001B[43m,\u001B[49m\u001B[43m \u001B[49m\u001B[38;5;28;43mself\u001B[39;49m\u001B[38;5;241;43m.\u001B[39;49m\u001B[43msend_inner\u001B[49m\u001B[43m)\u001B[49m\n\u001B[0;32m    107\u001B[0m     \u001B[38;5;28;01mif\u001B[39;00m response\u001B[38;5;241m.\u001B[39mstatus_code \u001B[38;5;129;01min\u001B[39;00m [\u001B[38;5;241m200\u001B[39m, \u001B[38;5;241m201\u001B[39m, \u001B[38;5;241m202\u001B[39m]:\n\u001B[0;32m    108\u001B[0m         \u001B[38;5;28;01mtry\u001B[39;00m:\n",
      "File \u001B[1;32m~\\miniconda3\\envs\\pytorch3d\\lib\\site-packages\\qdrant_client\\http\\api_client.py:215\u001B[0m, in \u001B[0;36mBaseMiddleware.__call__\u001B[1;34m(self, request, call_next)\u001B[0m\n\u001B[0;32m    214\u001B[0m \u001B[38;5;28;01mdef\u001B[39;00m \u001B[38;5;21m__call__\u001B[39m(\u001B[38;5;28mself\u001B[39m, request: Request, call_next: Send) \u001B[38;5;241m-\u001B[39m\u001B[38;5;241m>\u001B[39m Response:\n\u001B[1;32m--> 215\u001B[0m     \u001B[38;5;28;01mreturn\u001B[39;00m \u001B[43mcall_next\u001B[49m\u001B[43m(\u001B[49m\u001B[43mrequest\u001B[49m\u001B[43m)\u001B[49m\n",
      "File \u001B[1;32m~\\miniconda3\\envs\\pytorch3d\\lib\\site-packages\\qdrant_client\\http\\api_client.py:118\u001B[0m, in \u001B[0;36mApiClient.send_inner\u001B[1;34m(self, request)\u001B[0m\n\u001B[0;32m    116\u001B[0m     response \u001B[38;5;241m=\u001B[39m \u001B[38;5;28mself\u001B[39m\u001B[38;5;241m.\u001B[39m_client\u001B[38;5;241m.\u001B[39msend(request)\n\u001B[0;32m    117\u001B[0m \u001B[38;5;28;01mexcept\u001B[39;00m \u001B[38;5;167;01mException\u001B[39;00m \u001B[38;5;28;01mas\u001B[39;00m e:\n\u001B[1;32m--> 118\u001B[0m     \u001B[38;5;28;01mraise\u001B[39;00m ResponseHandlingException(e)\n\u001B[0;32m    119\u001B[0m \u001B[38;5;28;01mreturn\u001B[39;00m response\n",
      "\u001B[1;31mResponseHandlingException\u001B[0m: [WinError 10061] No connection could be made because the target machine actively refused it"
     ]
    }
   ],
   "execution_count": 143
  },
  {
   "metadata": {
    "ExecuteTime": {
     "end_time": "2025-04-17T14:18:38.593891Z",
     "start_time": "2025-04-17T14:18:36.789577Z"
    }
   },
   "cell_type": "code",
   "source": [
    "# Tạo collection cho text embeddings\n",
    "client.recreate_collection(\n",
    "    collection_name=\"text_collection\",\n",
    "    vectors_config=models.VectorParams(\n",
    "        size=1280,  # Kích thước vector của bạn là 1280\n",
    "        distance=models.Distance.COSINE\n",
    "    )\n",
    ")"
   ],
   "id": "b6714d33b6f6f402",
   "outputs": [
    {
     "name": "stderr",
     "output_type": "stream",
     "text": [
      "C:\\Users\\admin\\AppData\\Local\\Temp\\ipykernel_19856\\2674592679.py:2: DeprecationWarning: `recreate_collection` method is deprecated and will be removed in the future. Use `collection_exists` to check collection existence and `create_collection` instead.\n",
      "  client.recreate_collection(\n"
     ]
    },
    {
     "data": {
      "text/plain": [
       "True"
      ]
     },
     "execution_count": 67,
     "metadata": {},
     "output_type": "execute_result"
    }
   ],
   "execution_count": 67
  },
  {
   "metadata": {
    "ExecuteTime": {
     "end_time": "2025-04-17T14:23:38.294705Z",
     "start_time": "2025-04-17T14:23:36.445542Z"
    }
   },
   "cell_type": "code",
   "source": [
    "# Tạo collection cho image embeddings\n",
    "client.recreate_collection(\n",
    "    collection_name=\"image_collection\",\n",
    "    vectors_config=models.VectorParams(\n",
    "        size=1280,\n",
    "        distance=models.Distance.COSINE\n",
    "    )\n",
    ")"
   ],
   "id": "a776513253b7b367",
   "outputs": [
    {
     "name": "stderr",
     "output_type": "stream",
     "text": [
      "C:\\Users\\admin\\AppData\\Local\\Temp\\ipykernel_19856\\3783336193.py:2: DeprecationWarning: `recreate_collection` method is deprecated and will be removed in the future. Use `collection_exists` to check collection existence and `create_collection` instead.\n",
      "  client.recreate_collection(\n"
     ]
    },
    {
     "data": {
      "text/plain": [
       "True"
      ]
     },
     "execution_count": 80,
     "metadata": {},
     "output_type": "execute_result"
    }
   ],
   "execution_count": 80
  },
  {
   "metadata": {
    "ExecuteTime": {
     "end_time": "2025-04-17T15:22:24.723826Z",
     "start_time": "2025-04-17T15:22:22.479363Z"
    }
   },
   "cell_type": "code",
   "source": [
    "# Tạo collection cho shape embeddings\n",
    "client.recreate_collection(\n",
    "    collection_name=\"shape_collection\",\n",
    "    vectors_config=models.VectorParams(\n",
    "        size=1280,\n",
    "        distance=models.Distance.COSINE\n",
    "    )\n",
    ")"
   ],
   "id": "b8ae7b21f912da64",
   "outputs": [
    {
     "name": "stderr",
     "output_type": "stream",
     "text": [
      "C:\\Users\\admin\\AppData\\Local\\Temp\\ipykernel_19856\\2264437393.py:2: DeprecationWarning: `recreate_collection` method is deprecated and will be removed in the future. Use `collection_exists` to check collection existence and `create_collection` instead.\n",
      "  client.recreate_collection(\n"
     ]
    },
    {
     "data": {
      "text/plain": [
       "True"
      ]
     },
     "execution_count": 120,
     "metadata": {},
     "output_type": "execute_result"
    }
   ],
   "execution_count": 120
  },
  {
   "metadata": {
    "ExecuteTime": {
     "end_time": "2025-04-17T13:54:56.023356Z",
     "start_time": "2025-04-17T13:54:55.962255Z"
    }
   },
   "cell_type": "code",
   "source": [
    "import os\n",
    "import numpy as np\n",
    "from qdrant_client import QdrantClient\n",
    "from qdrant_client import models\n",
    "import glob\n",
    "from tqdm import tqdm"
   ],
   "id": "711990d1ad6c81d5",
   "outputs": [],
   "execution_count": 19
  },
  {
   "metadata": {
    "ExecuteTime": {
     "end_time": "2025-04-17T14:34:09.924586Z",
     "start_time": "2025-04-17T14:34:09.912791Z"
    }
   },
   "cell_type": "code",
   "source": [
    "# Định nghĩa đường dẫn đến dữ liệu\n",
    "BASE_DIR = \"D:/private\" # Thay đổi thành đường dẫn chính nếu cần\n",
    "TEXT_EMBED_DIR = os.path.join(BASE_DIR, \"text_embed\")\n",
    "IMAGE_EMBED_DIR = os.path.join(BASE_DIR, \"image_embed\")\n",
    "SHAPE_EMBED_DIR = os.path.join(BASE_DIR, \"objects_dataset_npy_10000/objects\")\n",
    "SCENES_DIR = os.path.join(BASE_DIR, \"scenes\")"
   ],
   "id": "787ed1f47715aa31",
   "outputs": [],
   "execution_count": 92
  },
  {
   "metadata": {
    "ExecuteTime": {
     "end_time": "2025-04-17T14:33:59.360812Z",
     "start_time": "2025-04-17T14:33:59.349903Z"
    }
   },
   "cell_type": "code",
   "source": [
    "def upload_text_embeddings():\n",
    "    uuid_dirs = [d for d in os.listdir(TEXT_EMBED_DIR) if os.path.isdir(os.path.join(TEXT_EMBED_DIR, d))]\n",
    "\n",
    "    for uuid in tqdm(uuid_dirs):\n",
    "        embed_path = os.path.join(TEXT_EMBED_DIR, uuid, \"text_embed.npy\")\n",
    "        query_path = os.path.join(SCENES_DIR, uuid, \"query.txt\")\n",
    "        if os.path.exists(embed_path):\n",
    "            embedding = np.load(embed_path)\n",
    "            with open(query_path, \"r\") as f:\n",
    "                query = f.read()\n",
    "\n",
    "\n",
    "            client.upsert(\n",
    "                collection_name=\"text_collection\",\n",
    "                points=[\n",
    "                    models.PointStruct(\n",
    "                        id=uuid.replace(\"-\", \"\"),\n",
    "                        vector=embedding.flatten().tolist(),\n",
    "                        payload={\n",
    "                            \"uuid\": uuid,\n",
    "                            \"type\": \"text\",\n",
    "                            \"query\": query\n",
    "                        }\n",
    "                    )\n",
    "                ]\n",
    "            )\n"
   ],
   "id": "e94e1b08bd6a1513",
   "outputs": [],
   "execution_count": 90
  },
  {
   "metadata": {
    "ExecuteTime": {
     "end_time": "2025-04-17T14:34:13.594500Z",
     "start_time": "2025-04-17T14:34:12.051036Z"
    }
   },
   "cell_type": "code",
   "source": "upload_text_embeddings()",
   "id": "b771c2f5132c1d",
   "outputs": [
    {
     "name": "stderr",
     "output_type": "stream",
     "text": [
      "100%|██████████| 50/50 [00:01<00:00, 32.74it/s]\n"
     ]
    }
   ],
   "execution_count": 93
  },
  {
   "metadata": {
    "ExecuteTime": {
     "end_time": "2025-04-17T14:23:47.730003Z",
     "start_time": "2025-04-17T14:23:47.723949Z"
    }
   },
   "cell_type": "code",
   "source": [
    "def upload_image_embeddings():\n",
    "    uuid_dirs = [\n",
    "        d for d in os.listdir(IMAGE_EMBED_DIR)\n",
    "        if os.path.isdir(os.path.join(IMAGE_EMBED_DIR, d))\n",
    "    ]\n",
    "    point_id = 0\n",
    "\n",
    "    for uuid in uuid_dirs:\n",
    "        uuid_dir = os.path.join(IMAGE_EMBED_DIR, uuid)\n",
    "        embed_files = glob.glob(os.path.join(uuid_dir, \"*.npy\"))\n",
    "\n",
    "        for embed_file in tqdm(embed_files):\n",
    "            file_name = os.path.basename(embed_file)\n",
    "\n",
    "            embedding = np.load(embed_file)\n",
    "\n",
    "            # unique_id = file_name.replace(\".npy\", \"\").replace(\"-\", \"\").replace(\"_\", \"img\")\n",
    "            unique_id = f\"{uuid.replace('-', '')}_{os.path.splitext(file_name)[0]}\"\n",
    "\n",
    "            client.upsert(\n",
    "                collection_name=\"image_collection\",\n",
    "                points=[\n",
    "                    models.PointStruct(\n",
    "                        id=point_id,\n",
    "                        vector=embedding.flatten().tolist(),\n",
    "                        payload={\n",
    "                            \"uuid\": uuid,\n",
    "                            \"type\": \"image\",\n",
    "                            \"file_name\": file_name,\n",
    "                        }\n",
    "                    )\n",
    "                ]\n",
    "            )\n",
    "            point_id += 1\n"
   ],
   "id": "1367a7bdde36921f",
   "outputs": [],
   "execution_count": 82
  },
  {
   "metadata": {
    "ExecuteTime": {
     "end_time": "2025-04-17T14:24:04.511507Z",
     "start_time": "2025-04-17T14:23:49.282044Z"
    }
   },
   "cell_type": "code",
   "source": "upload_image_embeddings()",
   "id": "9d431d1090edcbca",
   "outputs": [
    {
     "name": "stderr",
     "output_type": "stream",
     "text": [
      "100%|██████████| 13/13 [00:00<00:00, 25.10it/s]\n",
      "100%|██████████| 13/13 [00:00<00:00, 41.16it/s]\n",
      "100%|██████████| 13/13 [00:00<00:00, 55.92it/s]\n",
      "100%|██████████| 13/13 [00:00<00:00, 38.28it/s]\n",
      "100%|██████████| 13/13 [00:00<00:00, 47.32it/s]\n",
      "100%|██████████| 13/13 [00:00<00:00, 47.49it/s]\n",
      "100%|██████████| 13/13 [00:00<00:00, 47.03it/s]\n",
      "100%|██████████| 13/13 [00:00<00:00, 49.42it/s]\n",
      "100%|██████████| 13/13 [00:00<00:00, 40.36it/s]\n",
      "100%|██████████| 13/13 [00:00<00:00, 49.09it/s]\n",
      "100%|██████████| 13/13 [00:00<00:00, 42.98it/s]\n",
      "100%|██████████| 13/13 [00:00<00:00, 52.03it/s]\n",
      "100%|██████████| 13/13 [00:00<00:00, 37.76it/s]\n",
      "100%|██████████| 13/13 [00:00<00:00, 43.69it/s]\n",
      "100%|██████████| 13/13 [00:00<00:00, 44.70it/s]\n",
      "100%|██████████| 13/13 [00:00<00:00, 41.29it/s]\n",
      "100%|██████████| 13/13 [00:00<00:00, 48.35it/s]\n",
      "100%|██████████| 13/13 [00:00<00:00, 50.08it/s]\n",
      "100%|██████████| 13/13 [00:00<00:00, 49.79it/s]\n",
      "100%|██████████| 13/13 [00:00<00:00, 51.70it/s]\n",
      "100%|██████████| 13/13 [00:00<00:00, 53.68it/s]\n",
      "100%|██████████| 13/13 [00:00<00:00, 40.71it/s]\n",
      "100%|██████████| 13/13 [00:00<00:00, 41.49it/s]\n",
      "100%|██████████| 13/13 [00:00<00:00, 54.52it/s]\n",
      "100%|██████████| 13/13 [00:00<00:00, 51.28it/s]\n",
      "100%|██████████| 13/13 [00:00<00:00, 37.82it/s]\n",
      "100%|██████████| 13/13 [00:00<00:00, 52.65it/s]\n",
      "100%|██████████| 13/13 [00:00<00:00, 44.80it/s]\n",
      "100%|██████████| 13/13 [00:00<00:00, 39.38it/s]\n",
      "100%|██████████| 13/13 [00:00<00:00, 33.95it/s]\n",
      "100%|██████████| 13/13 [00:00<00:00, 55.90it/s]\n",
      "100%|██████████| 13/13 [00:00<00:00, 35.93it/s]\n",
      "100%|██████████| 13/13 [00:00<00:00, 45.40it/s]\n",
      "100%|██████████| 13/13 [00:00<00:00, 38.23it/s]\n",
      "100%|██████████| 13/13 [00:00<00:00, 37.94it/s]\n",
      "100%|██████████| 13/13 [00:00<00:00, 40.02it/s]\n",
      "100%|██████████| 13/13 [00:00<00:00, 47.45it/s]\n",
      "100%|██████████| 13/13 [00:00<00:00, 40.01it/s]\n",
      "100%|██████████| 13/13 [00:00<00:00, 39.70it/s]\n",
      "100%|██████████| 13/13 [00:00<00:00, 34.23it/s]\n",
      "100%|██████████| 13/13 [00:00<00:00, 35.80it/s]\n",
      "100%|██████████| 13/13 [00:00<00:00, 42.64it/s]\n",
      "100%|██████████| 13/13 [00:00<00:00, 36.31it/s]\n",
      "100%|██████████| 13/13 [00:00<00:00, 41.67it/s]\n",
      "100%|██████████| 13/13 [00:00<00:00, 38.33it/s]\n",
      "100%|██████████| 13/13 [00:00<00:00, 49.77it/s]\n",
      "100%|██████████| 13/13 [00:00<00:00, 59.77it/s]\n",
      "100%|██████████| 13/13 [00:00<00:00, 45.49it/s]\n",
      "100%|██████████| 13/13 [00:00<00:00, 50.90it/s]\n",
      "100%|██████████| 13/13 [00:00<00:00, 45.36it/s]\n"
     ]
    }
   ],
   "execution_count": 83
  },
  {
   "metadata": {
    "ExecuteTime": {
     "end_time": "2025-04-17T14:29:11.339605Z",
     "start_time": "2025-04-17T14:29:11.329932Z"
    }
   },
   "cell_type": "code",
   "source": [
    "def upload_shape_embeddings():\n",
    "    uuid_dirs = [\n",
    "        d for d in os.listdir(SHAPE_EMBED_DIR)\n",
    "        if os.path.isdir(\n",
    "            os.path.join(SHAPE_EMBED_DIR, d)\n",
    "        )\n",
    "    ]\n",
    "\n",
    "    for uuid in tqdm(uuid_dirs):\n",
    "        embed_path = os.path.join(SHAPE_EMBED_DIR, uuid, \"shape_embedding.npy\")\n",
    "\n",
    "        if os.path.exists(embed_path):\n",
    "            embedding = np.load(embed_path)\n",
    "\n",
    "            client.upsert(\n",
    "                collection_name=\"shape_collection\",\n",
    "                points=[\n",
    "                    models.PointStruct(\n",
    "                        id=uuid.replace(\"-\", \"\"),\n",
    "                        vector=embedding.flatten().tolist(),\n",
    "                        payload={\n",
    "                            \"uuid\": uuid,\n",
    "                            \"type\": \"shape\",\n",
    "                            \"model_path\": os.path.join(SHAPE_EMBED_DIR, uuid, \"normalized_model.npy\")\n",
    "                        }\n",
    "                    )\n",
    "                ]\n",
    "            )"
   ],
   "id": "ed7807dd62b576f0",
   "outputs": [],
   "execution_count": 88
  },
  {
   "metadata": {
    "ExecuteTime": {
     "end_time": "2025-04-17T16:14:20.396359Z",
     "start_time": "2025-04-17T16:14:18.346390Z"
    }
   },
   "cell_type": "code",
   "source": "upload_shape_embeddings()",
   "id": "6e031f7d9010eb87",
   "outputs": [
    {
     "name": "stderr",
     "output_type": "stream",
     "text": [
      "100%|██████████| 50/50 [00:02<00:00, 24.84it/s]\n"
     ]
    }
   ],
   "execution_count": 123
  },
  {
   "metadata": {
    "ExecuteTime": {
     "end_time": "2025-04-17T14:47:12.098375Z",
     "start_time": "2025-04-17T14:47:12.049275Z"
    }
   },
   "cell_type": "code",
   "source": [
    "# Test thu truy van\n",
    "scroll_result = client.scroll(\n",
    "    collection_name=\"text_collection\",\n",
    "    limit=2,\n",
    "    with_vectors=True\n",
    ")\n",
    "vector = scroll_result[0][1].vector\n",
    "query = scroll_result[0][1].payload[\"query\"]\n",
    "uuid = scroll_result[0][1].payload[\"uuid\"]\n",
    "query, uuid"
   ],
   "id": "f44fc3d1a787824a",
   "outputs": [
    {
     "data": {
      "text/plain": [
       "('a twin-sized bed frame with a folded-down trundle bed, featuring dark brown wooden legs and slats, a light gray fabric headboard and footboard, and two matching gray upholstered seat cushions with decorative buttons.',\n",
       " '08df38e7-b9ec-40d1-8652-b1857959a6c7')"
      ]
     },
     "execution_count": 113,
     "metadata": {},
     "output_type": "execute_result"
    }
   ],
   "execution_count": 113
  },
  {
   "metadata": {
    "ExecuteTime": {
     "end_time": "2025-04-17T16:14:23.944666Z",
     "start_time": "2025-04-17T16:14:23.886664Z"
    }
   },
   "cell_type": "code",
   "source": [
    "search_result = client.search(\n",
    "    collection_name=\"shape_collection\",\n",
    "    query_vector=vector,\n",
    "    limit=5\n",
    ")\n",
    "\n",
    "for i, hit in enumerate(search_result):\n",
    "    print(f\"{i}. ID: {hit.id}, Score: {hit.score}\")\n",
    "\n",
    "print(\"-\" * 20)\n",
    "search_result = client.search(\n",
    "    collection_name=\"image_collection\",\n",
    "    query_vector=vector,\n",
    "    limit=5\n",
    ")\n",
    "\n",
    "for i, hit in enumerate(search_result):\n",
    "    print(f\"{i}. ID: {hit.payload['uuid']}, Score: {hit.score}\")"
   ],
   "id": "76328c704b8e333",
   "outputs": [
    {
     "name": "stdout",
     "output_type": "stream",
     "text": [
      "0. ID: ec366e16-681d-4621-ac33-56536ce237a1, Score: 0.11819115\n",
      "1. ID: 27c0c74b-d03c-476c-a8e0-01d2546fc894, Score: 0.11192697\n",
      "2. ID: a63e6333-b3b8-4487-b3ae-7c8c5e3092e8, Score: 0.101223946\n",
      "3. ID: 24af0746-d902-450e-b0b5-98ab28db8c2d, Score: 0.101177335\n",
      "4. ID: 94e953b8-4c64-4475-accb-335b1a120e48, Score: 0.099268466\n",
      "--------------------\n",
      "0. ID: a63e6333-b3b8-4487-b3ae-7c8c5e3092e8, Score: 0.3459917\n",
      "1. ID: a63e6333-b3b8-4487-b3ae-7c8c5e3092e8, Score: 0.3375696\n",
      "2. ID: a63e6333-b3b8-4487-b3ae-7c8c5e3092e8, Score: 0.3360669\n",
      "3. ID: a63e6333-b3b8-4487-b3ae-7c8c5e3092e8, Score: 0.33280343\n",
      "4. ID: a63e6333-b3b8-4487-b3ae-7c8c5e3092e8, Score: 0.32907182\n"
     ]
    },
    {
     "name": "stderr",
     "output_type": "stream",
     "text": [
      "C:\\Users\\admin\\AppData\\Local\\Temp\\ipykernel_19856\\204628471.py:1: DeprecationWarning: `search` method is deprecated and will be removed in the future. Use `query_points` instead.\n",
      "  search_result = client.search(\n",
      "C:\\Users\\admin\\AppData\\Local\\Temp\\ipykernel_19856\\204628471.py:11: DeprecationWarning: `search` method is deprecated and will be removed in the future. Use `query_points` instead.\n",
      "  search_result = client.search(\n"
     ]
    }
   ],
   "execution_count": 124
  }
 ],
 "metadata": {
  "kernelspec": {
   "display_name": "Python 3",
   "language": "python",
   "name": "python3"
  },
  "language_info": {
   "codemirror_mode": {
    "name": "ipython",
    "version": 2
   },
   "file_extension": ".py",
   "mimetype": "text/x-python",
   "name": "python",
   "nbconvert_exporter": "python",
   "pygments_lexer": "ipython2",
   "version": "2.7.6"
  }
 },
 "nbformat": 4,
 "nbformat_minor": 5
}
