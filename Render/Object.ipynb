{
 "cells": [
  {
   "cell_type": "code",
   "id": "initial_id",
   "metadata": {
    "collapsed": true,
    "ExecuteTime": {
     "end_time": "2025-04-15T07:07:54.755402Z",
     "start_time": "2025-04-15T07:07:54.732570Z"
    }
   },
   "source": [
    "import os\n",
    "import uuid\n",
    "\n",
    "DATASET_PATH = 'G:\\My Drive\\public_data'"
   ],
   "outputs": [],
   "execution_count": 2
  },
  {
   "metadata": {
    "ExecuteTime": {
     "end_time": "2025-04-15T07:19:18.743781Z",
     "start_time": "2025-04-15T07:07:56.144519Z"
    }
   },
   "cell_type": "code",
   "source": [
    "import os\n",
    "import json\n",
    "import argparse\n",
    "from pathlib import Path\n",
    "from tqdm import tqdm\n",
    "\n",
    "def create_dataset_json(root_dir, output_json, find_description=False):\n",
    "    \"\"\"\n",
    "    Tạo file JSON chứa thông tin về tất cả các mô hình trong dataset\n",
    "\n",
    "    Args:\n",
    "        root_dir (str): Đường dẫn đến thư mục gốc của dataset (public-data)\n",
    "        output_json (str): Đường dẫn để lưu file JSON\n",
    "        find_description (bool): Tìm file mô tả nếu có (mặc định: False)\n",
    "\n",
    "    Returns:\n",
    "        dict: Dữ liệu JSON đã tạo\n",
    "    \"\"\"\n",
    "    # Chuẩn hóa đường dẫn gốc\n",
    "    # root_dir = os.path.abspath(root_dir)\n",
    "\n",
    "    # Tạo cấu trúc dữ liệu\n",
    "    dataset_json = {}\n",
    "\n",
    "    # Đếm số lượng mô hình để hiển thị tiến trình\n",
    "    total_models = 0\n",
    "    for dir_level1 in os.listdir(root_dir):\n",
    "        level1_path = os.path.join(root_dir, dir_level1)\n",
    "        if os.path.isdir(level1_path):\n",
    "            for dir_level2 in os.listdir(level1_path):\n",
    "                level2_path = os.path.join(level1_path, dir_level2)\n",
    "                if os.path.isdir(level2_path):\n",
    "                    if any(file.endswith('.obj') for file in os.listdir(level2_path)):\n",
    "                        total_models += 1\n",
    "\n",
    "    print(f\"Đã tìm thấy {total_models} thư mục chứa mô hình\")\n",
    "\n",
    "    # Duyệt qua cấu trúc thư mục\n",
    "    with tqdm(total=total_models, desc=\"Đang xử lý mô hình\") as pbar:\n",
    "        for dir_level1 in sorted(os.listdir(root_dir)):\n",
    "            level1_path = os.path.join(root_dir, dir_level1)\n",
    "\n",
    "            # Chỉ xử lý thư mục\n",
    "            if not os.path.isdir(level1_path):\n",
    "                continue\n",
    "\n",
    "            # Tạo entry cho thư mục cấp 1\n",
    "            dataset_json[dir_level1] = {}\n",
    "\n",
    "            for dir_level2 in sorted(os.listdir(level1_path)):\n",
    "                level2_path = os.path.join(level1_path, dir_level2)\n",
    "\n",
    "                # Chỉ xử lý thư mục\n",
    "                if not os.path.isdir(level2_path):\n",
    "                    continue\n",
    "\n",
    "                # Kiểm tra xem có file .obj nào không\n",
    "                obj_files = [f for f in os.listdir(level2_path) if f.endswith('.obj')]\n",
    "                if not obj_files:\n",
    "                    continue\n",
    "\n",
    "                # Tạo entry cho thư mục cấp 2\n",
    "                object_data = {}\n",
    "\n",
    "                # Tìm các file theo thứ tự ưu tiên\n",
    "                # 1. normalized_model.obj (nếu có)\n",
    "                # 2. model.obj (nếu có)\n",
    "                # 3. Bất kỳ file .obj nào khác\n",
    "                obj_path = None\n",
    "                if \"normalized_model.obj\" in obj_files:\n",
    "                    obj_path = os.path.join(level2_path, \"normalized_model.obj\")\n",
    "                if \"model.obj\" in obj_files:\n",
    "                    obj_path = os.path.join(level2_path, \"model.obj\")\n",
    "                else:\n",
    "                    obj_path = os.path.join(level2_path, obj_files[0])\n",
    "\n",
    "                # Chuyển đổi đường dẫn tuyệt đối thành đường dẫn tương đối so với root_dir\n",
    "                rel_obj_path = os.path.relpath(obj_path, root_dir)\n",
    "                object_data[\"obj_path\"] = rel_obj_path\n",
    "\n",
    "                # Tìm file texture.png\n",
    "                texture_path = os.path.join(level2_path, \"texture.png\")\n",
    "                if os.path.exists(texture_path):\n",
    "                    rel_texture_path = os.path.relpath(texture_path, root_dir)\n",
    "                    object_data[\"texture_path\"] = rel_texture_path\n",
    "\n",
    "                # Tìm file image.png hoặc bất kỳ file ảnh nào khác\n",
    "                image_files = [f for f in os.listdir(level2_path) if f.endswith(('.png', '.jpg', '.jpeg')) and f != \"texture.png\"]\n",
    "                if image_files:\n",
    "                    image_path = os.path.join(level2_path, image_files[0])\n",
    "                    rel_image_path = os.path.relpath(image_path, root_dir)\n",
    "                    object_data[\"image_path\"] = rel_image_path\n",
    "\n",
    "                # Tìm file mô tả nếu được yêu cầu\n",
    "                if find_description:\n",
    "                    description_files = [f for f in os.listdir(level2_path) if f.endswith(('.txt', '.md')) and \"description\" in f.lower()]\n",
    "                    if description_files:\n",
    "                        desc_path = os.path.join(level2_path, description_files[0])\n",
    "                        try:\n",
    "                            with open(desc_path, 'r', encoding='utf-8') as f:\n",
    "                                description = f.read().strip()\n",
    "                            object_data[\"description\"] = description\n",
    "                        except Exception as e:\n",
    "                            print(f\"Lỗi khi đọc file mô tả {desc_path}: {e}\")\n",
    "                    else:\n",
    "                        object_data[\"description\"] = \"\"\n",
    "\n",
    "                # Thêm thông tin mô hình vào dataset\n",
    "                dataset_json[dir_level1][dir_level2] = object_data\n",
    "\n",
    "                # Cập nhật thanh tiến trình\n",
    "                pbar.update(1)\n",
    "\n",
    "    # Lưu dữ liệu vào file JSON\n",
    "    with open(output_json, 'w', encoding='utf-8') as f:\n",
    "        json.dump(dataset_json, f, ensure_ascii=False, indent=2)\n",
    "\n",
    "    print(f\"Đã lưu thông tin dataset vào file: {output_json}\")\n",
    "\n",
    "    # Thống kê\n",
    "    total_models = sum(len(dirs) for dirs in dataset_json.values())\n",
    "    print(f\"Tổng số thư mục cấp 1: {len(dataset_json)}\")\n",
    "    print(f\"Tổng số mô hình: {total_models}\")\n",
    "\n",
    "    return dataset_json\n",
    "\n",
    "def parse_args():\n",
    "    parser = argparse.ArgumentParser(description='Tạo file JSON cho dataset')\n",
    "    parser.add_argument('--root_dir', type=str, required=True,\n",
    "                        help='Đường dẫn đến thư mục gốc của dataset (public-data)')\n",
    "    parser.add_argument('--output_json', type=str, default='dataset.json',\n",
    "                        help='Đường dẫn để lưu file JSON (mặc định: dataset.json)')\n",
    "    parser.add_argument('--find_description', action='store_true',\n",
    "                        help='Tìm file mô tả nếu có')\n",
    "    return parser.parse_args()\n",
    "\n",
    "def main():\n",
    "    # args = parse_args()\n",
    "    create_dataset_json(DATASET_PATH, \"object.json\", False)\n",
    "\n",
    "if __name__ == \"__main__\":\n",
    "    main()"
   ],
   "id": "a5373dc28106446b",
   "outputs": [
    {
     "name": "stdout",
     "output_type": "stream",
     "text": [
      "Đã tìm thấy 34051 thư mục chứa mô hình\n"
     ]
    },
    {
     "name": "stderr",
     "output_type": "stream",
     "text": [
      "Đang xử lý mô hình: 100%|██████████| 34051/34051 [07:23<00:00, 76.71it/s] \n"
     ]
    },
    {
     "name": "stdout",
     "output_type": "stream",
     "text": [
      "Đã lưu thông tin dataset vào file: object.json\n",
      "Tổng số thư mục cấp 1: 1622\n",
      "Tổng số mô hình: 34051\n"
     ]
    }
   ],
   "execution_count": 3
  },
  {
   "metadata": {
    "ExecuteTime": {
     "end_time": "2025-04-15T13:18:59.310226Z",
     "start_time": "2025-04-15T13:18:59.298410Z"
    }
   },
   "cell_type": "code",
   "source": "import json",
   "id": "5249dca4292b69fe",
   "outputs": [],
   "execution_count": 1
  },
  {
   "metadata": {
    "ExecuteTime": {
     "end_time": "2025-04-15T13:19:55.251383Z",
     "start_time": "2025-04-15T13:19:54.969457Z"
    }
   },
   "cell_type": "code",
   "source": [
    "with open(\"G:/My Drive/public_data/object.json\", 'r', encoding='utf-8') as f:\n",
    "    dataset_json = json.load(f)\n",
    "\n",
    "uuid1s = [key for key in dataset_json.keys()]"
   ],
   "id": "62a2c8cb27585693",
   "outputs": [],
   "execution_count": 2
  }
 ],
 "metadata": {
  "kernelspec": {
   "display_name": "Python 3",
   "language": "python",
   "name": "python3"
  },
  "language_info": {
   "codemirror_mode": {
    "name": "ipython",
    "version": 2
   },
   "file_extension": ".py",
   "mimetype": "text/x-python",
   "name": "python",
   "nbconvert_exporter": "python",
   "pygments_lexer": "ipython2",
   "version": "2.7.6"
  }
 },
 "nbformat": 4,
 "nbformat_minor": 5
}
