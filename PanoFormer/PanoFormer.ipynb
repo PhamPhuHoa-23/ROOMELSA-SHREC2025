{
 "cells": [
  {
   "cell_type": "code",
   "id": "initial_id",
   "metadata": {
    "collapsed": true,
    "ExecuteTime": {
     "end_time": "2025-04-13T04:08:55.477955Z",
     "start_time": "2025-04-13T04:08:49.524332Z"
    }
   },
   "source": [
    "\n",
    "import cv2"
   ],
   "outputs": [],
   "execution_count": 1
  },
  {
   "metadata": {
    "ExecuteTime": {
     "end_time": "2025-04-13T04:14:08.219004Z",
     "start_time": "2025-04-13T04:14:08.164991Z"
    }
   },
   "cell_type": "code",
   "source": "from PanoFormer.PanoFormer.PanoFormer.PanoFormerDepthEstimator import PanoFormeDepthEstimator",
   "id": "925b397304a6ca2",
   "outputs": [],
   "execution_count": 5
  },
  {
   "metadata": {
    "ExecuteTime": {
     "end_time": "2025-04-13T04:18:38.204537Z",
     "start_time": "2025-04-13T04:18:38.153386Z"
    }
   },
   "cell_type": "code",
   "source": [
    "if __name__ == '__main__':\n",
    "    panoformer = PanoFormeDepthEstimator()\n",
    "\n",
    "    image_path = \"G:\\My Drive\\public_data\\1e6013d0-dc3a-421e-8b56-c85d2a2a9706\\0_colors.png\"\n",
    "    image = cv2.imread(image_path)\n",
    "    image = cv2.cvtColor(image, cv2.COLOR_BGR2RGB)\n",
    "    depth_map = panoformer.predict_depth(image)\n",
    "    output_path = \"G:\\My Drive\\public_data\\1e6013d0-dc3a-421e-8b56-c85d2a2a9706\\0_colors_depth.png\"\n",
    "    panoformer.save(depth_map, output_path)\n"
   ],
   "id": "81f5884ec27f384e",
   "outputs": [
    {
     "ename": "ImportError",
     "evalue": "Please install PanoFormerModel from PanoFormer",
     "output_type": "error",
     "traceback": [
      "\u001B[1;31m---------------------------------------------------------------------------\u001B[0m",
      "\u001B[1;31mModuleNotFoundError\u001B[0m                       Traceback (most recent call last)",
      "File \u001B[1;32m~\\OneDrive - VNU-HCMUS\\[PPH]_[UNIVERSITY PROJECT]\\ROOMELSA-SHREC-2025\\PanoFormer\\PanoFormerDepthEstimator.py:22\u001B[0m, in \u001B[0;36mPanoFormeDepthEstimator.__init__\u001B[1;34m(self, weights_path, device)\u001B[0m\n\u001B[0;32m     21\u001B[0m \u001B[38;5;28;01mtry\u001B[39;00m:\n\u001B[1;32m---> 22\u001B[0m     \u001B[38;5;28;01mfrom\u001B[39;00m \u001B[38;5;21;01mPanoFormer\u001B[39;00m\u001B[38;5;21;01m.\u001B[39;00m\u001B[38;5;21;01mPanoFormer\u001B[39;00m\u001B[38;5;21;01m.\u001B[39;00m\u001B[38;5;21;01mnetwork\u001B[39;00m\u001B[38;5;21;01m.\u001B[39;00m\u001B[38;5;21;01mmodel\u001B[39;00m \u001B[38;5;28;01mimport\u001B[39;00m Panoformer \u001B[38;5;28;01mas\u001B[39;00m PanoFormerModel\n\u001B[0;32m     23\u001B[0m \u001B[38;5;28;01mexcept\u001B[39;00m \u001B[38;5;167;01mImportError\u001B[39;00m:\n",
      "\u001B[1;31mModuleNotFoundError\u001B[0m: No module named 'PanoFormer.PanoFormer.network'",
      "\nDuring handling of the above exception, another exception occurred:\n",
      "\u001B[1;31mImportError\u001B[0m                               Traceback (most recent call last)",
      "Cell \u001B[1;32mIn[10], line 2\u001B[0m\n\u001B[0;32m      1\u001B[0m \u001B[38;5;28;01mif\u001B[39;00m \u001B[38;5;18m__name__\u001B[39m \u001B[38;5;241m==\u001B[39m \u001B[38;5;124m'\u001B[39m\u001B[38;5;124m__main__\u001B[39m\u001B[38;5;124m'\u001B[39m:\n\u001B[1;32m----> 2\u001B[0m     panoformer \u001B[38;5;241m=\u001B[39m \u001B[43mPanoFormeDepthEstimator\u001B[49m\u001B[43m(\u001B[49m\u001B[43m)\u001B[49m\n\u001B[0;32m      4\u001B[0m     image_path \u001B[38;5;241m=\u001B[39m \u001B[38;5;124m\"\u001B[39m\u001B[38;5;124mG:\u001B[39m\u001B[38;5;124m\\\u001B[39m\u001B[38;5;124mMy Drive\u001B[39m\u001B[38;5;124m\\\u001B[39m\u001B[38;5;124mpublic_data\u001B[39m\u001B[38;5;130;01m\\1\u001B[39;00m\u001B[38;5;124me6013d0-dc3a-421e-8b56-c85d2a2a9706\u001B[39m\u001B[38;5;130;01m\\0\u001B[39;00m\u001B[38;5;124m_colors.png\u001B[39m\u001B[38;5;124m\"\u001B[39m\n\u001B[0;32m      5\u001B[0m     image \u001B[38;5;241m=\u001B[39m cv2\u001B[38;5;241m.\u001B[39mimread(image_path)\n",
      "File \u001B[1;32m~\\OneDrive - VNU-HCMUS\\[PPH]_[UNIVERSITY PROJECT]\\ROOMELSA-SHREC-2025\\PanoFormer\\PanoFormerDepthEstimator.py:24\u001B[0m, in \u001B[0;36mPanoFormeDepthEstimator.__init__\u001B[1;34m(self, weights_path, device)\u001B[0m\n\u001B[0;32m     22\u001B[0m     \u001B[38;5;28;01mfrom\u001B[39;00m \u001B[38;5;21;01mPanoFormer\u001B[39;00m\u001B[38;5;21;01m.\u001B[39;00m\u001B[38;5;21;01mPanoFormer\u001B[39;00m\u001B[38;5;21;01m.\u001B[39;00m\u001B[38;5;21;01mnetwork\u001B[39;00m\u001B[38;5;21;01m.\u001B[39;00m\u001B[38;5;21;01mmodel\u001B[39;00m \u001B[38;5;28;01mimport\u001B[39;00m Panoformer \u001B[38;5;28;01mas\u001B[39;00m PanoFormerModel\n\u001B[0;32m     23\u001B[0m \u001B[38;5;28;01mexcept\u001B[39;00m \u001B[38;5;167;01mImportError\u001B[39;00m:\n\u001B[1;32m---> 24\u001B[0m     \u001B[38;5;28;01mraise\u001B[39;00m \u001B[38;5;167;01mImportError\u001B[39;00m(\u001B[38;5;124m\"\u001B[39m\u001B[38;5;124mPlease install PanoFormerModel from PanoFormer\u001B[39m\u001B[38;5;124m\"\u001B[39m)\n\u001B[0;32m     26\u001B[0m \u001B[38;5;28mself\u001B[39m\u001B[38;5;241m.\u001B[39mweights_path \u001B[38;5;241m=\u001B[39m os\u001B[38;5;241m.\u001B[39mpath\u001B[38;5;241m.\u001B[39mexpanduser(weights_path)\n\u001B[0;32m     27\u001B[0m \u001B[38;5;28;01mif\u001B[39;00m device \u001B[38;5;129;01mis\u001B[39;00m \u001B[38;5;28;01mNone\u001B[39;00m:\n",
      "\u001B[1;31mImportError\u001B[0m: Please install PanoFormerModel from PanoFormer"
     ]
    }
   ],
   "execution_count": 10
  }
 ],
 "metadata": {
  "kernelspec": {
   "display_name": "Python 3",
   "language": "python",
   "name": "python3"
  },
  "language_info": {
   "codemirror_mode": {
    "name": "ipython",
    "version": 2
   },
   "file_extension": ".py",
   "mimetype": "text/x-python",
   "name": "python",
   "nbconvert_exporter": "python",
   "pygments_lexer": "ipython2",
   "version": "2.7.6"
  }
 },
 "nbformat": 4,
 "nbformat_minor": 5
}
